{
 "cells": [
  {
   "cell_type": "markdown",
   "id": "699973a2-07a9-46a9-b18b-352b378e863d",
   "metadata": {},
   "source": [
    "# Lecture 5: more about Grover implementation\n",
    "\n",
    "<center><img src=\"../figures/qibo_mascotte/qibo_detective.png\" alt=\"drawing\" width=\"400\"/></center>\n",
    "<center><strong>Fig. 5:</strong> Qibo the mangoose investigating Grover's details [DALL-E].</center>\n",
    "\n",
    "### Introduction \n",
    "\n",
    "The aim of this lecture is to delve deeper into the Grover operators implementation."
   ]
  },
  {
   "cell_type": "markdown",
   "id": "fd28c8e1-1798-46d6-857d-6c87ff1d14cf",
   "metadata": {},
   "source": [
    "**NOTE THAT:** in this implementation we know the guilty index, and so we could be upset because we also know the state! We just need to print `bitstrings[guilty_index]`. This is true, but it's important to have a fine grained control of the whole algorithm. \n",
    "In a real-case scenario, we shouldn't know which is the `guilty_index`, which has to be known by the oracle instead! According to our story, we should'n know the DNA sequence while the oracle is able to detect which DNA corresponds to the target one. \n",
    "\n",
    "In a few words, after you code your Grover algorithm and understand how to set up the problem, you can ask a friend to take you code, don't look inside, and execute grover a number of times proportional to the square root of the possible candidates. Your friend will be able to gain this advantage thanks to the Grover routines!\n",
    "\n",
    "### Back to Grover circuit\n",
    "\n",
    "<center><img src=\"../figures/grover_details.png\" alt=\"drawing\" width=\"800\"/></center>"
   ]
  },
  {
   "cell_type": "code",
   "execution_count": null,
   "id": "6a1aa26a-e52d-4165-8e3a-ea7f1d2e9c9f",
   "metadata": {},
   "outputs": [],
   "source": [
    "# if you don't have already qibo, qibojit and qiboedu installed in your computer\n",
    "# uncomment and execute the following lines \n",
    "\n",
    "# !pip install qibo\n",
    "# !pip install qibojit\n",
    "# !pip install git+https://github.com/qiboteam/qiboedu"
   ]
  },
  {
   "cell_type": "code",
   "execution_count": null,
   "id": "34a6b666-ce84-4485-9749-e43e78bbf4a1",
   "metadata": {},
   "outputs": [],
   "source": [
    "# import qibo and set backend\n",
    "\n",
    "# import plotscripts, utils, grover\n",
    "\n",
    "# set qibo's backend"
   ]
  },
  {
   "cell_type": "code",
   "execution_count": null,
   "id": "79accad2-3229-4ae9-add2-514b914218e1",
   "metadata": {},
   "outputs": [],
   "source": [
    "# set problem dimensionality, e.g. n=3\n",
    "\n",
    "# generate the bitstrings list using utils.generate_bitstring_combinations(n)\n",
    "\n",
    "# we did some modification to the function of the other lecture\n",
    "# set the guilty index e.g. 5 and set the guilty state "
   ]
  },
  {
   "cell_type": "markdown",
   "id": "d28e38ea-14c6-43aa-afc6-3e4bf45f9e47",
   "metadata": {},
   "source": [
    "### Grover until the first layer\n",
    "\n",
    "Let's have a look to the first layer only."
   ]
  },
  {
   "cell_type": "code",
   "execution_count": null,
   "id": "05c51b24-2e5e-42b7-bd4d-1f737b4ec861",
   "metadata": {},
   "outputs": [],
   "source": [
    "# build the first layer\n",
    "\n",
    "# save the state\n",
    "\n",
    "# draw the circuit"
   ]
  },
  {
   "cell_type": "code",
   "execution_count": null,
   "id": "4aac0ece-bde5-4018-aa12-8214cd81f7f5",
   "metadata": {},
   "outputs": [],
   "source": [
    "# compute the average amplitude by calling utils.compute_input_register_average_amplitude(state)"
   ]
  },
  {
   "cell_type": "code",
   "execution_count": null,
   "id": "3c95de34-c764-48a4-8a3e-b8d64e322d14",
   "metadata": {},
   "outputs": [],
   "source": [
    "# plot input register amplitudes passing state and an extra agrument average_amp_value"
   ]
  },
  {
   "cell_type": "markdown",
   "id": "a5bdd8db-a291-4431-85f0-1c6a7dad63e2",
   "metadata": {},
   "source": [
    "What about the amplitude if we also consider the ancilla?"
   ]
  },
  {
   "cell_type": "code",
   "execution_count": null,
   "id": "b904b89d-97d2-4102-9f1d-290732169aa8",
   "metadata": {},
   "outputs": [],
   "source": [
    "# plot the whole set of amplitudes to see what happens considering the ancilla"
   ]
  },
  {
   "cell_type": "markdown",
   "id": "5c5fad6d-613d-48eb-982a-e8008ddb0d1d",
   "metadata": {},
   "source": [
    "Since it was in the $|-\\rangle$ st\n",
    "ate, we have half of amplitudes multiplied by $-1$.\n",
    "\n",
    "### Grover until the oracle\n",
    "\n",
    "Now we are going to add to the circuit the oracle operator step by step.\n",
    "\n",
    "<center><img src=\"../figures/oracle_layers.png\" alt=\"drawing\" width=\"800\"/></center>\n",
    "\n",
    "We can study what is happening to the system by setting an extra variable to the `build_oracle` function:\n",
    "\n",
    "- setting `build_oracle(guilty_state, n, depth=1)` we build only the initial layer of NOT gates;\n",
    "- setting `build_oracle(guilty_state, n, depth=2)` we build the NOT gates and the multi-controlled NOT so that we apply the **phase kickback**;\n",
    "- setting `build_oracle(guilty_state, n, depth=3)` we build the full oracle.\n",
    "\n",
    "Setting `depth=None` (namely not setting `depth`) we get the same result of setting `depth=3`."
   ]
  },
  {
   "cell_type": "code",
   "execution_count": null,
   "id": "98f3ace2-6ae1-447a-b6f3-5721be9f48a3",
   "metadata": {},
   "outputs": [],
   "source": [
    "# build circuit composed of initial layer + oracle with depth 1, 2, 3\n",
    "\n",
    "# save state\n",
    "\n",
    "# save average_amplitude after oracle execution using \n",
    "# utils.compute_input_register_amplitude(state)\n",
    "\n",
    "# draw the circuit"
   ]
  },
  {
   "cell_type": "code",
   "execution_count": null,
   "id": "9cab6590-4d36-43c7-af42-3d1c1ed6c09a",
   "metadata": {},
   "outputs": [],
   "source": [
    "# plot input register amplitudes passing state and an extra agrument average_amp_value"
   ]
  },
  {
   "cell_type": "markdown",
   "id": "a5c3d68c-c05c-45ac-bf5b-a7e65028209a",
   "metadata": {},
   "source": [
    "### Grover until the diffusion operator\n",
    "\n",
    "Now we do the same modular study of the diffusion operator.\n",
    "\n",
    "<center><img src=\"../figures/diffusion_layers.png\" alt=\"drawing\" width=\"800\"/></center>\n",
    "\n",
    "Similarly to what we did with the oracle, we can set the `depth` variable as follows:\n",
    "\n",
    "- setting `build_diffusion_operator(n, depth=1)` we add only the NOT gate to the ancilla;\n",
    "- setting `build_diffusion_operator(n, depth=2)` we add H's to the input register;\n",
    "- setting `build_diffusion_operator(n, depth=3)` we add X's to the input register;\n",
    "- setting `build_diffusion_operator(n, depth=4)` we add the multi-controlled NOT;\n",
    "- setting `build_diffusion_operator(n, depth=5)` we add again X's to the input register;\n",
    "- setting `build_diffusion_operator(n, depth=6)` we add again H's to the input register;\n",
    "\n",
    "Setting `depth=None` (namely not setting `depth`) we get the same result of setting `depth=6`."
   ]
  },
  {
   "cell_type": "code",
   "execution_count": null,
   "id": "6787a748-18b7-4b7e-8f96-e3c331a0bd3b",
   "metadata": {},
   "outputs": [],
   "source": [
    "# build circuit composed of initial layer + oracle with depth 3 + diff_op with various depth\n",
    "\n",
    "# save state\n",
    "\n",
    "# draw the circuit"
   ]
  },
  {
   "cell_type": "code",
   "execution_count": null,
   "id": "8482fd14-4e98-4e93-9de2-3e759b65e427",
   "metadata": {},
   "outputs": [],
   "source": [
    "# plot input register amplitudes passing state and an extra agrument average_amp_value"
   ]
  },
  {
   "cell_type": "markdown",
   "id": "4f500e9c-004a-4569-85f1-c082b6c55798",
   "metadata": {},
   "source": [
    "### Pushing the amplitude to be close to 1"
   ]
  },
  {
   "cell_type": "code",
   "execution_count": null,
   "id": "0f31c13f-e967-4a0a-b89c-544f5cdf0071",
   "metadata": {},
   "outputs": [],
   "source": [
    "# compute a couple of times the Grover routine using grover.build_grover\n",
    "\n",
    "# state\n",
    "\n",
    "# plot input register amplitudes"
   ]
  },
  {
   "cell_type": "code",
   "execution_count": null,
   "id": "1b042eaf-a386-445f-9afd-10001189f183",
   "metadata": {},
   "outputs": [],
   "source": []
  }
 ],
 "metadata": {
  "kernelspec": {
   "display_name": "Python 3 (ipykernel)",
   "language": "python",
   "name": "python3"
  },
  "language_info": {
   "codemirror_mode": {
    "name": "ipython",
    "version": 3
   },
   "file_extension": ".py",
   "mimetype": "text/x-python",
   "name": "python",
   "nbconvert_exporter": "python",
   "pygments_lexer": "ipython3",
   "version": "3.10.0"
  }
 },
 "nbformat": 4,
 "nbformat_minor": 5
}
