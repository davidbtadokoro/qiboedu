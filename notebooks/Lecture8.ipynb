{
 "cells": [
  {
   "cell_type": "markdown",
   "id": "145b82d5-9efd-47ac-bace-af0692fde5b9",
   "metadata": {},
   "source": [
    "## Ground state approximation via VQE\n",
    "\n",
    "<center><img src=\"../figures/qibo_mascotte/qibo_vqe.png\" alt=\"drawing\" width=\"400\"/></center>\n",
    "<center><strong>Fig. 8:</strong> Qibo the mangoose learning a VQE [DALL-E].</center>"
   ]
  },
  {
   "cell_type": "code",
   "execution_count": null,
   "id": "19f9c9e2-7101-4ec1-9186-a84e4ce7c37e",
   "metadata": {},
   "outputs": [],
   "source": [
    "# import numpy\n",
    "\n",
    "# import qibo, Circuit, gates and hamiltonians\n",
    "\n",
    "# import qibo optimizers\n",
    "\n",
    "# from qiboedu import plotscripts.plot_vqe_status\n",
    "\n",
    "# set backend"
   ]
  },
  {
   "cell_type": "markdown",
   "id": "9f16d93f-55ef-470b-8550-f2d0d8fce321",
   "metadata": {},
   "source": [
    "#### Problem setup: $H_{\\rm target}$ and circuit $\\mathcal{U}(\\theta)$"
   ]
  },
  {
   "cell_type": "code",
   "execution_count": null,
   "id": "9dbb3427-6dc9-40fe-8d92-6b1540bac306",
   "metadata": {},
   "outputs": [],
   "source": [
    "# define hamiltonian "
   ]
  },
  {
   "cell_type": "code",
   "execution_count": null,
   "id": "819b158d-a152-4209-b2d8-a7943b905f04",
   "metadata": {},
   "outputs": [],
   "source": [
    "# define VQE function"
   ]
  },
  {
   "cell_type": "markdown",
   "id": "f5bc3a74-176f-42cf-9801-a7722bc77ea8",
   "metadata": {},
   "source": [
    "#### Loss function definition"
   ]
  },
  {
   "cell_type": "code",
   "execution_count": null,
   "id": "0f8cc6d0-a2db-442d-8b49-3a804ce876da",
   "metadata": {},
   "outputs": [],
   "source": [
    "# define loss function"
   ]
  },
  {
   "cell_type": "markdown",
   "id": "6e49d0ac-133e-46ad-ab34-558a5c270425",
   "metadata": {},
   "source": [
    "#### Execution"
   ]
  },
  {
   "cell_type": "code",
   "execution_count": null,
   "id": "104add07-55ad-4b43-8708-943c297ee397",
   "metadata": {},
   "outputs": [],
   "source": [
    "# set number of qubits and layers (circuit architecture)\n",
    "\n",
    "# build circuit and draw it"
   ]
  },
  {
   "cell_type": "code",
   "execution_count": null,
   "id": "9f9e550d-5e05-4f6b-84b1-51b9bd890216",
   "metadata": {},
   "outputs": [],
   "source": [
    "# build hamiltonian and collect ground state\n",
    "\n",
    "# plot ground state VS VQE's state"
   ]
  },
  {
   "cell_type": "code",
   "execution_count": null,
   "id": "51043012-cfd2-4e96-9966-18cdf01314e6",
   "metadata": {},
   "outputs": [],
   "source": [
    "# set initial parameters\n",
    "\n",
    "# final state after execution with random parameters\n",
    "\n",
    "# plot "
   ]
  },
  {
   "cell_type": "code",
   "execution_count": null,
   "id": "814e158a-44a6-4342-8434-4ab6ef33a189",
   "metadata": {},
   "outputs": [],
   "source": [
    "# optimize and\n",
    "# collect optimization results"
   ]
  },
  {
   "cell_type": "code",
   "execution_count": null,
   "id": "5f675e43-b384-4dc8-b99e-88138294564a",
   "metadata": {},
   "outputs": [],
   "source": [
    "# best parameters"
   ]
  },
  {
   "cell_type": "code",
   "execution_count": null,
   "id": "605f086f-54e9-43b4-83dd-7ae4460b66d9",
   "metadata": {},
   "outputs": [],
   "source": [
    "# set best parameters into the circuit\n",
    "\n",
    "# plot ground state VS VQE's state"
   ]
  }
 ],
 "metadata": {
  "kernelspec": {
   "display_name": "Python 3 (ipykernel)",
   "language": "python",
   "name": "python3"
  },
  "language_info": {
   "codemirror_mode": {
    "name": "ipython",
    "version": 3
   },
   "file_extension": ".py",
   "mimetype": "text/x-python",
   "name": "python",
   "nbconvert_exporter": "python",
   "pygments_lexer": "ipython3",
   "version": "3.10.0"
  }
 },
 "nbformat": 4,
 "nbformat_minor": 5
}
