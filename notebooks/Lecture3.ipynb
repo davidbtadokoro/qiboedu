{
 "cells": [
  {
   "cell_type": "markdown",
   "id": "95a6872c-f673-476d-9713-dd3d354f8d5d",
   "metadata": {},
   "source": [
    "# Lecture 3: Deutsch-Josza algorithm\n",
    "\n",
    "<center><img src=\"../figures/qibo_mascotte/qibo_dj.png\" alt=\"drawing\" width=\"400\"/></center>\n",
    "<center><strong>Fig. 3:</strong> Qibo the mangoose cheking if a target is balanced [DALL-E].</center>\n",
    "\n",
    "\n",
    "## Introduction\n",
    "\n",
    "One of the first algorithms in which quantum computing has been proven to be more effective than classical computing is the Deutsch-Josza algorithm. \n",
    "\n",
    "The goal of this algorithm is to understand if a target function $f$ is constant or balanced.\n",
    "<center><img src=\"../figures/dj.svg\" alt=\"drawing\" width=\"800\"/></center>\n",
    "Since we want to use the quantum computing to tackle the problem, we use to formalize it in the following way.\n",
    "\n",
    "1. let's consider a function $f$ which takes as input a bitstring $x$ and returns one single value between zero and one: $$ f(x): \\{0,1\\}^N \\to \\{0,1\\};$$\n",
    "2. we define it constant if $f(x)=0$ or $f(x)=1$ independently of the bitstring $x$;\n",
    "3. on the other hand, we define it balanced if it returns half of the time zero and half of the time one.\n",
    "\n",
    "#### The main ingredients of DJ algorithm\n",
    "\n",
    "We are going to implement the DJ algorithm considering $N$-long input bitstrings. To do this, we need to initialize an $N+1$ qubits circuit, in which the first $N$ qubits (also called **input register**) are used to encode the bitstring, while the last qubit is used as ancilla. \n",
    "\n",
    "We denote the input register state with $|x\\rangle$ and the ancilla state with $|y\\rangle$.\n",
    "<center><img src=\"../figures/dj-circ.png\" alt=\"drawing\" width=\"500\"/></center>\n",
    "\n",
    "At this point, we apply the following steps:\n",
    "1. we prepare the **input register** in the $|0\\rangle^{\\otimes N}$ and the ancilla into the $|1\\rangle$;\n",
    "2. we apply an Hadamard gate to each qubit of the system, so that we create a maximally superposed state;\n",
    "3. we apply an **oracle** operation, which has to be implemented so that it represents our input string. At this stage, we can see the oracle as a black-box whose action on the system is: $$ |x\\rangle |y\\rangle \\to |x\\rangle |y \\oplus f(x)\\rangle,$$ but we are going to open the black-box later in the lecture.\n",
    "4. we apply again an Hadamard gate to each qubit of the **input register**;\n",
    "5. we measure the state of the **input register**.\n",
    "6. if the first $N$ qubits are in the $|0\\rangle^{\\otimes N}$, the function $f$ is detected as constant, otherwise it is detected as balanced."
   ]
  },
  {
   "cell_type": "markdown",
   "id": "ccb9a2f6-c23e-4a5c-bec6-d3074db2f116",
   "metadata": {},
   "source": [
    "#### Some useful imports"
   ]
  },
  {
   "cell_type": "code",
   "execution_count": null,
   "id": "fd4b1275-f56d-4c61-94cc-00ed7f0b1aaa",
   "metadata": {},
   "outputs": [],
   "source": [
    "# if you don't have already qibo, qibojit and qiboedu installed in your computer\n",
    "# uncomment and execute the following lines \n",
    "\n",
    "# !pip install qibo\n",
    "# !pip install qibojit\n",
    "# !pip install git+https://github.com/qiboteam/qiboedu"
   ]
  },
  {
   "cell_type": "code",
   "execution_count": null,
   "id": "294ac895-85f8-4646-9310-e635d027a22d",
   "metadata": {},
   "outputs": [],
   "source": [
    "# import qibo and its objects\n",
    "\n",
    "# import useful plotscripts\n",
    "# plot_input_register_amplitudes \n",
    "\n",
    "# set the backend"
   ]
  },
  {
   "cell_type": "markdown",
   "id": "763324d0-bb8a-4b9b-93dd-322759caede2",
   "metadata": {},
   "source": [
    "#### Start building DJ algorithm\n",
    "\n",
    "As first step we can build the DJ algorithm parts which are well defined independently from the oracle function."
   ]
  },
  {
   "cell_type": "code",
   "execution_count": null,
   "id": "3f973dbe-93dd-47f7-acfb-874d586fb32d",
   "metadata": {},
   "outputs": [],
   "source": [
    "# set the number of qubits (for example 3)"
   ]
  },
  {
   "cell_type": "code",
   "execution_count": null,
   "id": "f4bf3260-cd89-4e8e-b67c-1cca7312c1a0",
   "metadata": {},
   "outputs": [],
   "source": [
    "# we will build the whole circuit as sum of: state preparation + oracle + final hadamards and measurements\n",
    "\n",
    "# initial layer \n",
    "\n",
    "# final layer   "
   ]
  },
  {
   "cell_type": "markdown",
   "id": "1797f1a0-544b-4b51-a5ff-adb0072af2c3",
   "metadata": {},
   "source": [
    "We can start building the DJ circuit by adding the initial layer."
   ]
  },
  {
   "cell_type": "code",
   "execution_count": null,
   "id": "ba3e5cee-6306-4946-9444-40c3ac42315a",
   "metadata": {},
   "outputs": [],
   "source": [
    "# build the initial layer and draw the circuit"
   ]
  },
  {
   "cell_type": "markdown",
   "id": "19f248f3-9387-431c-b6b5-20ce0db287ef",
   "metadata": {},
   "source": [
    "We can have a look to the amplitudes of the first $N$ qubits of the system using a plotscript you can import as `scripts.plotscripts.plot_input_register_amplitudes`. This function computes the amplitude of the first $N$ qubits of an $N+1$ system of qubits removing the dependence on the ancilla."
   ]
  },
  {
   "cell_type": "code",
   "execution_count": null,
   "id": "c55b2fd4-ffc0-4cd2-848d-715d9c2d9c9e",
   "metadata": {},
   "outputs": [],
   "source": [
    "# to plot the amplitudes we need to save the qibo state object\n",
    "\n",
    "# then we can call plot_input_register_amplitudes"
   ]
  },
  {
   "cell_type": "markdown",
   "id": "9f5ad11e-74a5-4559-8a92-922c5b66e149",
   "metadata": {},
   "source": [
    "As you can see from the plot, the system is in the complete superposed state we get applying the Hadamards to the state $|0\\rangle^{\\otimes N}$."
   ]
  },
  {
   "cell_type": "markdown",
   "id": "22704723-db01-47e0-8b7a-4710758864a8",
   "metadata": {},
   "source": [
    "Let's have a look to the final layer too:"
   ]
  },
  {
   "cell_type": "code",
   "execution_count": null,
   "id": "75271efa-b854-4c19-b408-073804a793f3",
   "metadata": {},
   "outputs": [],
   "source": [
    "# build final layer circuit and draw it"
   ]
  },
  {
   "cell_type": "markdown",
   "id": "4d9d3108-ead7-43e5-bd19-cb32fed309c0",
   "metadata": {},
   "source": [
    "### Opening the black box: oracle definition\n",
    "\n",
    "We need to define into a sequence of gates a function $f$ which can be balanced or constant acting as $$ |x\\rangle |y\\rangle \\to |x\\rangle |y \\oplus f(x)\\rangle \\\\.$$ We are going to implement it as by cases.\n",
    "\n",
    "#### Constant oracle\n",
    "\n",
    "The easiest way to implement a function $f$ which always returns $0$ indipendently of $|x\\rangle$ is to leave the system as it is, without applying any operation on the ancilla. This is equivalent to apply a function which constantly returns zero."
   ]
  },
  {
   "cell_type": "code",
   "execution_count": null,
   "id": "c7b9403f-43d9-4981-9124-43558c775ada",
   "metadata": {},
   "outputs": [],
   "source": [
    "# define the constant oracle function"
   ]
  },
  {
   "cell_type": "code",
   "execution_count": null,
   "id": "6be0e99c-922e-4474-990a-bdd3416cda11",
   "metadata": {},
   "outputs": [],
   "source": [
    "# build constant oracle and draw it"
   ]
  },
  {
   "cell_type": "markdown",
   "id": "45a31016-79c3-4dbd-92a1-7357756aad76",
   "metadata": {},
   "source": [
    "What we expect from a constant oracle of this nature is that the initial state is untouched. This can be verified by plotting the input register's amplitudes."
   ]
  },
  {
   "cell_type": "code",
   "execution_count": null,
   "id": "193c1a53-fc9a-4451-a806-d94c3df2dbec",
   "metadata": {},
   "outputs": [],
   "source": [
    "# what do we get after initial_layer + constant_oracle?\n",
    "# build circuit, draw it"
   ]
  },
  {
   "cell_type": "code",
   "execution_count": null,
   "id": "7e5763a0-ac22-4498-abbe-2d8ac630a4b5",
   "metadata": {},
   "outputs": [],
   "source": [
    "# collect state object and visualize state through plot_input_register_amplitudes"
   ]
  },
  {
   "cell_type": "markdown",
   "id": "e9f84461-7ad6-4231-a7b3-5b2b80f1b23d",
   "metadata": {},
   "source": [
    "<div style=\"background-color: rgba(255, 105, 105, 0.3); border: 2.5px solid #000000; padding: 15px;\">\n",
    "    <strong>Exercise:</strong> how to create the oracle corresponding to a constant function f(x)=1?\n",
    "</div>"
   ]
  },
  {
   "cell_type": "markdown",
   "id": "5b69d080-f40b-4e53-ab82-123ac7ac3ab1",
   "metadata": {},
   "source": [
    "#### Balanced oracle\n",
    "\n",
    "A balanced function can be implemented by applying CNOT gates using a control qubit which is in a complete superposed state. In fact, when we apply an Hadamard gate to a qubit prepared into the zero state, we get the superposed one: $$ |\\psi\\rangle \\frac{1}{\\sqrt{2}} (|0\\rangle + |1\\rangle),$$\n",
    "and if we use it as control while applying a controlled gate, it will act as a trigger by applying the operator with an exact probability of 50%, corresponding to the state amplitude related to state $|1\\rangle$."
   ]
  },
  {
   "cell_type": "code",
   "execution_count": null,
   "id": "e53339cc-bc4c-4db7-8c8d-6fd007bb6f9a",
   "metadata": {},
   "outputs": [],
   "source": [
    "# define the balanced oracle function\n",
    "# we are going to build a flexible balanced oracle, which can be customized\n",
    "# by passing as argument a bitstring"
   ]
  },
  {
   "cell_type": "code",
   "execution_count": null,
   "id": "2e83b063-bdc3-4f88-9f5b-1dbfd57a0ee7",
   "metadata": {},
   "outputs": [],
   "source": [
    "# build balanced oracle and draw it\n",
    "\n",
    "# you can set a desired string, e.g. \"100\""
   ]
  },
  {
   "cell_type": "markdown",
   "id": "1e628643-fc12-4f80-afb2-c8bfe8595c7d",
   "metadata": {},
   "source": [
    "If the balanced oracle is acting in a proper way, it should flip the amplitudes of half states of the system (the ones corresponding to the cases in which an odd number of the control qubits occupy the state $|1\\rangle$). We can check it by plotting the amplitudes after applying `initial_layer + balanced_oracle`."
   ]
  },
  {
   "cell_type": "code",
   "execution_count": null,
   "id": "7f3d9872-74f5-4948-8ed2-5a85ebd14dc7",
   "metadata": {},
   "outputs": [],
   "source": [
    "# what do we get after initial_layer + balanced_oracle?\n",
    "\n",
    "# build circuit, draw it"
   ]
  },
  {
   "cell_type": "code",
   "execution_count": null,
   "id": "1060d5f4-777b-4dd3-a7cd-6084f3e7ff9e",
   "metadata": {},
   "outputs": [],
   "source": [
    "# collect state object and visualize state through plot_input_register_amplitudes"
   ]
  },
  {
   "cell_type": "markdown",
   "id": "3244f683-1893-46ac-a160-49ba969a3ebf",
   "metadata": {},
   "source": [
    "As we can see from the plot, the flipped amplitudes correspond to the ones in which the control qubits are in the state $|1\\rangle$"
   ]
  },
  {
   "cell_type": "markdown",
   "id": "4b6c93b2-a739-4dfd-ba16-6bd5bd6b5764",
   "metadata": {},
   "source": [
    "#### Combining all layers into the DJ algorithm\n",
    "\n",
    "Finally, we can combine all the layers and verify the effectiveness of the DJ algorithm. We expect to get $|0\\rangle^{\\otimes N}$ if the oracle is constant and, on the other side, probability zero of getting $|0\\rangle^{\\otimes N}$ if the oracle corresponds to a balanced function.\n",
    "\n",
    "#### DJ and constant oracle"
   ]
  },
  {
   "cell_type": "code",
   "execution_count": null,
   "id": "99a91350-e0c2-4a71-a2dc-a444d0c0a20d",
   "metadata": {},
   "outputs": [],
   "source": [
    "# full algorithm with constant oracle: initial layer + constant oracle + final layer"
   ]
  },
  {
   "cell_type": "code",
   "execution_count": null,
   "id": "8bb28f4d-eaf1-4f76-a736-aca2897dbc0b",
   "metadata": {},
   "outputs": [],
   "source": [
    "# draw the circuit"
   ]
  },
  {
   "cell_type": "code",
   "execution_count": null,
   "id": "a763392c-eb1f-4034-a47e-cd1a10a01e62",
   "metadata": {},
   "outputs": [],
   "source": [
    "# collect outcome object\n",
    "\n",
    "# print state"
   ]
  },
  {
   "cell_type": "markdown",
   "id": "05fdb2ef-4170-4e22-ab3e-6bb8bebd5503",
   "metadata": {},
   "source": [
    "And what about the final amplitudes of the input register?"
   ]
  },
  {
   "cell_type": "code",
   "execution_count": null,
   "id": "2d4b04b6-da84-4138-9efd-44467d31228e",
   "metadata": {},
   "outputs": [],
   "source": [
    "# plot the state via plot_input_register_amplitudes"
   ]
  },
  {
   "cell_type": "markdown",
   "id": "c9dcdf90-ecb2-4f36-8e7c-4db000479b70",
   "metadata": {},
   "source": [
    "#### DJ and balanced oracle"
   ]
  },
  {
   "cell_type": "code",
   "execution_count": null,
   "id": "68bbfc7e-4190-467d-9128-91a43e31f8f0",
   "metadata": {},
   "outputs": [],
   "source": [
    "# full algorithm with constant oracle: initial layer + balanced oracle + final layer"
   ]
  },
  {
   "cell_type": "code",
   "execution_count": null,
   "id": "1f283122-d713-453b-bf07-66569b4b77d8",
   "metadata": {},
   "outputs": [],
   "source": [
    "# draw the circuit"
   ]
  },
  {
   "cell_type": "code",
   "execution_count": null,
   "id": "d4d40bb3-ae97-47f7-9369-4b8ff362e26d",
   "metadata": {},
   "outputs": [],
   "source": [
    "# collect outcome object\n",
    "\n",
    "# print state"
   ]
  },
  {
   "cell_type": "code",
   "execution_count": null,
   "id": "f4bbed32-fb9d-44a9-aa96-f5b53feae879",
   "metadata": {},
   "outputs": [],
   "source": [
    "# plot the state via plot_input_register_amplitudes"
   ]
  },
  {
   "cell_type": "markdown",
   "id": "355a5b5e-2938-4d4b-94eb-521f46a351fb",
   "metadata": {},
   "source": [
    "#### But wait, what does black box means?\n",
    "\n",
    "We often speak of the oracles as black boxes: something you are not expected to look into. In this lecture, on contrary, we built our own oracles, perfectly knowing what we have inside. \n",
    "\n",
    "This is true! Because we really wanted to understand what a balanced and a constant oracle are. But once this is done, we can finally use the DJ algorithm with is pure power. Thanks to DJ you are able to understand if the function encoded into an oracle is balanced or constant **without** looking into the oracle and, moreover, with just one algorithm evaluation. \n",
    "\n",
    "Let's make a simple exercise!\n",
    "\n",
    "<div style=\"background-color: rgba(255, 105, 105, 0.3); border: 2.5px solid #000000; padding: 15px;\">\n",
    "<strong>Exercise:</strong> import the <code>qiboedu.scripts.utils.black_box_oracle</code> function. It will return a simple oracle function. It accepts one argument `n`, exactly like the functions you already used during this lecture. Let's build a DJ circuit around this black box oracle and execute it. Can you understand if the encoded function is balanced or constant? Finally, open the black box and check with your eyes.\n",
    "</div>"
   ]
  }
 ],
 "metadata": {
  "kernelspec": {
   "display_name": "Python 3 (ipykernel)",
   "language": "python",
   "name": "python3"
  },
  "language_info": {
   "codemirror_mode": {
    "name": "ipython",
    "version": 3
   },
   "file_extension": ".py",
   "mimetype": "text/x-python",
   "name": "python",
   "nbconvert_exporter": "python",
   "pygments_lexer": "ipython3",
   "version": "3.10.0"
  }
 },
 "nbformat": 4,
 "nbformat_minor": 5
}
