{
 "cells": [
  {
   "cell_type": "markdown",
   "id": "713655d2-ae03-4d27-8491-010d94861865",
   "metadata": {},
   "source": [
    "# Lecture 7: mitigating the noise\n",
    "\n",
    "<center><img src=\"../figures/qibo_mascotte/qibo_mit.png\" alt=\"drawing\" width=\"400\"/></center>\n",
    "<center><strong>Fig. 7:</strong> Qibo the mangoose mitigating noise [DALL-E].</center>\n",
    "\n",
    "## Introduction\n",
    "\n",
    "In lecture 4 we have learnt how to simulate a noisy system using Pauli noise channels.\n",
    "\n",
    "We typically approach a noisy system in two different ways:\n",
    "\n",
    "1. **quantum error correction (QEC)**, which involves a series of techniques which aim to detect and remove actively the noise from a bench of qubits of a quantum system. It needs a large number of physical qubits to actually correct and protect the state of a restricted number of them. Thanks to QEC the noise is practically removed (or corrected) from some qubits of a system.\n",
    "2. **quantum error mitigation (QEM)** consists in a collection of algorithms used to learn a noise map, which is then used to mitigate the noisy results. These methods doesn't correct the noise, but can be seen as post-processing techniques to extract an estimation of the noiseless results on top of the knowledge we have of the system.\n",
    "\n",
    "In this lecture we are going to focus on a specific QEM technique: the Clifford Data Regression (CDR)."
   ]
  },
  {
   "cell_type": "code",
   "execution_count": null,
   "id": "c333db53-d51e-4ff2-b79a-72d95793a7de",
   "metadata": {},
   "outputs": [],
   "source": [
    "# if you don't have already qibo, qibojit and qiboedu installed in your computer\n",
    "# uncomment and execute the following lines \n",
    "\n",
    "# !pip install qibo\n",
    "# !pip install qibojit\n",
    "# !pip install git+https://github.com/qiboteam/qiboedu"
   ]
  },
  {
   "cell_type": "code",
   "execution_count": null,
   "id": "f0309393-bd22-4fd1-b4ff-5eeeff3d4350",
   "metadata": {},
   "outputs": [],
   "source": [
    "# import numpy and matplotlib\n",
    "\n",
    "# import qibo\n",
    "\n",
    "# import Circuit, gates and hamiltonians\n",
    "\n",
    "# from qibo models import error mitigation\n",
    "# from qibo noise import PauliError, NoiseModel"
   ]
  },
  {
   "cell_type": "code",
   "execution_count": null,
   "id": "2fe8722e-d799-4e17-9fda-13ce147d76c4",
   "metadata": {},
   "outputs": [],
   "source": [
    "# set qibo's backend"
   ]
  },
  {
   "cell_type": "markdown",
   "id": "d282489d-52d2-4ea5-80fe-6de5c32f7620",
   "metadata": {},
   "source": [
    "#### Clifford Data Regression\n",
    "\n",
    "##### The target circuit \n",
    "\n",
    "The idea behind the CDR is very simple and effective: we consider a target circuit $U$, which we aim to execute in order to compute some expectation value \n",
    "$$ \\langle \\mathcal{O} \\rangle^U \\equiv \\langle 0 | U^{\\dagger}\\, \\mathcal{O}\\, U | 0 \\rangle \\\\. $$\n",
    "We are going to inherit the same problem of the lecture 4:"
   ]
  },
  {
   "cell_type": "code",
   "execution_count": null,
   "id": "cf9899b3-77fc-4f5c-ac46-b0fd323d92c1",
   "metadata": {},
   "outputs": [],
   "source": [
    "# problem definition\n",
    "# use the same circuit and the same problem \n",
    "\n",
    "# set the angles\n",
    "\n",
    "# set the angles into the circuit\n",
    "\n",
    "# observable definition"
   ]
  },
  {
   "cell_type": "markdown",
   "id": "f47243b2-3b94-496e-adbc-87fa6d0a5eb0",
   "metadata": {},
   "source": [
    "##### A training set of semi-Clifford circuits\n",
    "Once the problem is set up, we collect a set of circuits $\\{C^i\\}$, which have the same dimension of $U$, but they are mostly composed of Clifford gates. The idea is to create a set of circuits whose shape is similar to our target, but they are fastly simulable on a classical computer.\n",
    "\n",
    "We are going to use the already implemented CDR we have in `qibo`, in which the circuits $C^i$ are generated using the following function"
   ]
  },
  {
   "cell_type": "code",
   "execution_count": null,
   "id": "eb146a0f-a90c-4d00-8442-fa63419c3684",
   "metadata": {},
   "outputs": [],
   "source": [
    "# generate one circuit according with CDR"
   ]
  },
  {
   "cell_type": "markdown",
   "id": "75f66829-b00f-411f-9ef2-b74a8a5fc9ce",
   "metadata": {},
   "source": [
    "which changes some of the non-Clifford gates of the circuit with Clifford ones. In this particular case, some of the $RZ$ gates, which are non-Clifford if filled with general angles, are \"cliffordized\" by replacing the angles with multiples of $\\pi/2$. "
   ]
  },
  {
   "cell_type": "code",
   "execution_count": null,
   "id": "2e509392-5f55-4dda-8324-fec1888ce146",
   "metadata": {},
   "outputs": [],
   "source": [
    "# compare circuit shapes and angles after CDR sample"
   ]
  },
  {
   "cell_type": "markdown",
   "id": "ee5010dd-fe2c-425b-8fd3-ccb55c90a567",
   "metadata": {},
   "source": [
    "##### The noise map $\\ell$\n",
    "\n",
    "At this point, we compute both noisy $ \\{ \\langle \\mathcal{O} \\rangle^i_{\\rm noisy} \\}$ and noiseless  $\\{\\langle \\mathcal{O} \\rangle^i \\}$ expectation values executing the circuits $\\{C^i\\}$ on a noisy device and on a classical exact simulator.\n",
    "\n",
    "We then fit the scatterplot $\\langle \\mathcal{O} \\rangle_{\\rm noisy}$ vs.  $\\langle \\mathcal{O} \\rangle$ with some map $\\ell$.\n",
    "\n",
    "For doing this, we use the `error_mitigation.CDR` method. \n",
    "The method requires a noise model to be defined if we are simulating. In order to reproduce the same noise of lecture 4, we build the following noise model:"
   ]
  },
  {
   "cell_type": "code",
   "execution_count": null,
   "id": "119fa26b-f111-4e80-a9d2-9a4d0f92284e",
   "metadata": {},
   "outputs": [],
   "source": [
    "# build the noise model using NoiseModel"
   ]
  },
  {
   "cell_type": "markdown",
   "id": "66562a9a-83ba-43e8-989d-fc4d45d8a967",
   "metadata": {},
   "source": [
    "Now we are ready to call the mitigation method."
   ]
  },
  {
   "cell_type": "code",
   "execution_count": null,
   "id": "8eb3cd8c-9d34-4b26-bb9c-3c03741ad464",
   "metadata": {},
   "outputs": [],
   "source": [
    "# this will take some time!\n",
    "# execute CDR"
   ]
  },
  {
   "cell_type": "markdown",
   "id": "af12df18-41f1-4b2b-9b5b-b4409a1dacef",
   "metadata": {},
   "source": [
    "By setting `full_output=True` we are saving many information about the QEM method:\n",
    "1. the mitigated expectation value;\n",
    "2. the noisy expectation value;\n",
    "3. the fitted parameters according to the chosen map form $\\ell$;\n",
    "4. the whole set of $\\langle \\mathcal{O} \\rangle_{\\rm noisy}$ and $\\langle \\mathcal{O} \\rangle$ collected using the training circuits $C^i$."
   ]
  },
  {
   "cell_type": "code",
   "execution_count": null,
   "id": "83a15731-8fec-4904-b4ff-2e17875c48f1",
   "metadata": {},
   "outputs": [],
   "source": [
    "# plot results"
   ]
  },
  {
   "cell_type": "markdown",
   "id": "44fdd08c-68dc-4c63-aa11-0189a1b31b36",
   "metadata": {},
   "source": [
    "And, thanks to the CDR, we get a cleaner expectation value"
   ]
  },
  {
   "cell_type": "code",
   "execution_count": null,
   "id": "e6540337-b85a-4d89-8003-ef2890f67692",
   "metadata": {},
   "outputs": [],
   "source": [
    "# compare expectation values"
   ]
  },
  {
   "cell_type": "markdown",
   "id": "b3fda724-db7e-41fc-b4ca-2de72df51d00",
   "metadata": {},
   "source": [
    "Which is closer to the exact one with respect to the noisy result!"
   ]
  }
 ],
 "metadata": {
  "kernelspec": {
   "display_name": "Python 3 (ipykernel)",
   "language": "python",
   "name": "python3"
  },
  "language_info": {
   "codemirror_mode": {
    "name": "ipython",
    "version": 3
   },
   "file_extension": ".py",
   "mimetype": "text/x-python",
   "name": "python",
   "nbconvert_exporter": "python",
   "pygments_lexer": "ipython3",
   "version": "3.10.0"
  }
 },
 "nbformat": 4,
 "nbformat_minor": 5
}
