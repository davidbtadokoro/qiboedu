{
 "cells": [
  {
   "cell_type": "markdown",
   "id": "35664032-bd8c-4bc7-8015-8028ebb6aeae",
   "metadata": {},
   "source": [
    "# Lecture 4: Grover search algorithm\n",
    "\n",
    "<center><img src=\"../../figures/qibo_mascotte/qibo_coffee.png\" alt=\"drawing\" width=\"400\"/></center>\n",
    "<center><strong>Fig. 4:</strong> Who put sugar in Qibo's coffee? [DALL-E].</center>\n",
    "\n",
    "## Introduction\n",
    "\n",
    "The Grover algorithm is probably one of the most famous quantum computing proof of utility. \n",
    "\n",
    "It has been known as \"Grover search algorithm\" because it is effective in a context in which we aim to find a specific solution of a problem among a set of possible solutions. \n",
    "\n",
    "#### Problem setup\n",
    "\n",
    "In this notebook, we are going to implement the Grover algorithm using a system of $N$ qubits in order to explore a set of $2^N$ possible solutions and, without going deep into the mathematical details, we will proof we need a number of Grover iterations proportional to $\\sqrt{N}$ to find the target solution with probability close to one.\n",
    "\n",
    "---\n",
    "\n",
    "To give the lesson a more concrete aspect, let's take a more realistic problem: \n",
    "Suppose you're at a party with $2^N$ friends. While you're peacefully drinking your coffee, you get distracted for a moment, and someone, without you noticing, pours sugar into your coffee.\n",
    "\n",
    "It's a disaster because you like your coffee bitter! So, you absolutely need to find the person responsible for this.\n",
    "\n",
    "Let's also suppose that there is no concrete evidence that can lead us to the guilty person, however, while poursing coffee inside your mug, the thief left a hair inside the cup, which can be used to extract DNA.\n",
    "\n",
    "Perfect! we can compare the guilty DNA with that of every person who was at the party at that moment.\n",
    "\n",
    "---\n",
    "\n",
    "This problem can be **classically** tackled by checking all the people one by one and, in the worst case, it takes $M = 2^N$ attempts before finding the guilty person in the group. On the other hand, using quantum computing and the Grover algorithm, we will see the solution can be found with a number of algorithm's calls that scales as $\\sqrt{M}$: *we gain a quadratic speedup!*\n",
    "\n",
    "Let's start investigating the culprit by importing some packages."
   ]
  },
  {
   "cell_type": "code",
   "execution_count": 1,
   "id": "2aff94a9-53b0-4f56-8b51-f6a447ff17ea",
   "metadata": {},
   "outputs": [],
   "source": [
    "# import random, numpy, matplotlib\n",
    "\n",
    "# import qibo and its modules\n",
    "\n",
    "# import all utils and plotscripts modules from scripts\n",
    "\n",
    "# set qibo backend"
   ]
  },
  {
   "cell_type": "markdown",
   "id": "336b7b76-b71d-4244-8f52-ad8d6892352a",
   "metadata": {},
   "source": [
    "Secondly, we need to generate a set of elements which can deal with a quantum computer and are able to represent all the possible solutions we want to explore. In practice, we create a set of $2^N$ bitstrings and we associate every person at the party to one of the bistrings. \n",
    "\n",
    "We use the function `qiboedu.scripts.utils.generate_bitstring_combination` to generate a list containing all the possible bitstrings of zeros and ones composed of $N$ bits."
   ]
  },
  {
   "cell_type": "code",
   "execution_count": 2,
   "id": "77d21389-ee17-4e5a-8f8a-8870569b9160",
   "metadata": {},
   "outputs": [],
   "source": [
    "# set the problem dimensionality --> the size of the set to be explored\n",
    "\n",
    "# set the number of shots (circuit's executions)\n",
    "# we do this because it's more realistic \n",
    "\n",
    "# generate bitstrings list"
   ]
  },
  {
   "cell_type": "code",
   "execution_count": 3,
   "id": "fcfa3b32-f15b-4945-824a-bb8942f03366",
   "metadata": {},
   "outputs": [],
   "source": [
    "# check whether the length of the list is equal to 2**n\n",
    "\n",
    "# print a random element of the list of bitstrings with random.choice"
   ]
  },
  {
   "cell_type": "markdown",
   "id": "20b0c7b0-017c-4812-9f68-1a51ddf9306e",
   "metadata": {},
   "source": [
    "Let's generate the list of people who were at the party."
   ]
  },
  {
   "cell_type": "code",
   "execution_count": 4,
   "id": "2f084be1-8ce0-4a80-bc6a-b62763115860",
   "metadata": {},
   "outputs": [],
   "source": [
    "# !pip install Faker \n",
    "# from faker import Faker\n",
    "# fake = Faker()"
   ]
  },
  {
   "cell_type": "code",
   "execution_count": 5,
   "id": "13243582-6ab3-49e6-9986-4c26fd920f34",
   "metadata": {},
   "outputs": [],
   "source": [
    "# names = []\n",
    "# for i in range(2**n):\n",
    "#    names.append(fake.name())\n",
    "\n",
    "# print(names)"
   ]
  },
  {
   "cell_type": "markdown",
   "id": "cd0d93f0-87df-49d8-a813-ba3a4a2d6949",
   "metadata": {},
   "source": [
    "In practice, we have now a list of strings, in which the element of index $k$ represents the $k$-th suspect among the people.\n",
    "\n",
    "Let's assume the guilty guy in the list is the number 11!"
   ]
  },
  {
   "cell_type": "code",
   "execution_count": 6,
   "id": "0671d00e-1c0b-479f-a849-8c5b4b0f116c",
   "metadata": {},
   "outputs": [],
   "source": [
    "# print name corresponding to the chosen guily index"
   ]
  },
  {
   "cell_type": "markdown",
   "id": "95592299-93fa-4d6f-8123-68e00c153135",
   "metadata": {},
   "source": [
    "### Grover algorithm main ingredients\n",
    "\n",
    "Now the problem is set up and we can focus on the Grover implementation. \n",
    "\n",
    "<center><img src=\"../../figures/grover-circ.png\" alt=\"drawing\" width=\"800\"/></center>\n",
    "We need to follow some steps:\n",
    "\n",
    "1. we prepare a system of $N+1$ qubits into the $|0\\rangle^{\\otimes N} |1\\rangle$ state. The ancilla gate is the one prepared as usual into $|1\\rangle$;\n",
    "2. we apply Hadamard gates to all the qubits in order to create superposition of all the $2^N$ states of the input register. We call this superposed state $|s\\rangle$;\n",
    "3. we apply an **oracle** function $U_f$ to the qubits, which is constructed in order to detect the guilty state among the others. In out narrative, it can be seen as the machine which process the DNA of the people, allowing to find the guilty person. In a quantum computer notation, it is a set of operation which flips the sign of the amplitude of the state corresponding to the guilty guy (the number 11 in our case).\n",
    "4. we apply the **diffusion operator** $U_s = 2|s\\rangle \\langle s| - I$, whose effect consists in reflecting the amplitudes of the system about the average amplitude. In practice, acting together with the oracle over the superposed states, it increases the amplitude of the guilty state and decrease the one of the others.\n",
    "5. we repeat the process a number of time proportional to $\\sqrt{M}$ to find the guilty guy state with probability close to one.\n",
    "\n",
    "We see some more detail in the following cells. For now, we can start implementing all the elements of the Grover algorithm.\n",
    "\n",
    "#### Initial and final layers of the circuit\n",
    "\n",
    "Regardless of the number of times we repeat the application of $U_f$ and $U_s$, we need to build the initial and the final circuit layer."
   ]
  },
  {
   "cell_type": "code",
   "execution_count": 7,
   "id": "3f1d3b20-9ee1-4400-8173-4f08fdb6695a",
   "metadata": {},
   "outputs": [],
   "source": [
    "# The Grover circuit will be composed of many layers\n",
    "# the first and the last layer are always the same and we call the initial_layer and final_layer\n",
    "\n",
    "# set the circuit and initial superposition\n",
    "def build_initial_layer(n):\n",
    "    \"\"\"Build the initial superposition in Grover circuit.\"\"\"\n",
    "    # n+1 qubits circuit\n",
    "    c = Circuit(n+1)\n",
    "    # state preparation into |0>|0>...|1>\n",
    "    c.add(gates.X(n))\n",
    "    # add superposition\n",
    "    for q in range(n+1):\n",
    "        c.add(gates.H(q))\n",
    "        \n",
    "    return c\n",
    "\n",
    "# final measurements\n",
    "def build_final_layer(n):\n",
    "    # n+1 qubits circuit\n",
    "    c = Circuit(n+1)\n",
    "    # measurements\n",
    "    c.add(gates.M(*range(n)))\n",
    "    return c"
   ]
  },
  {
   "cell_type": "markdown",
   "id": "ce9b3414-ab45-481f-9bdf-be60cd590bc1",
   "metadata": {},
   "source": [
    "Let's visualize the initial and final layer."
   ]
  },
  {
   "cell_type": "code",
   "execution_count": 7,
   "id": "1f1aaed7-26fd-4cbd-8e70-5a6cb682e76c",
   "metadata": {},
   "outputs": [],
   "source": [
    "# build the circuit as initial_layer + final_layer and draw it"
   ]
  },
  {
   "cell_type": "markdown",
   "id": "144c4711-79ed-4720-988f-e1b6a6afac01",
   "metadata": {},
   "source": [
    "With this setup, the final state is the equally superposed state and we expect uniformly distributed probabilities between all the available states.\n",
    "To visualize it, we can use the `qiboedu.scripts.plotscripts.plot_grover_probabilities` function, which shows the probability of each state calculated using the collected frequencies after executing the circuit `nshots` times."
   ]
  },
  {
   "cell_type": "code",
   "execution_count": 8,
   "id": "12282e04-2356-450a-8a7b-31ad324f4644",
   "metadata": {},
   "outputs": [],
   "source": [
    "# use plot_input_register_amplitudes passing the quantum state"
   ]
  },
  {
   "cell_type": "code",
   "execution_count": 9,
   "id": "71f5cdbf-db5d-4d81-aa9b-e15e8d21b076",
   "metadata": {},
   "outputs": [],
   "source": [
    "# use plot_grover_probabilities which requires the circuit and nshots"
   ]
  },
  {
   "cell_type": "markdown",
   "id": "6ecfbf9a-76ee-4a03-9182-145f9805cd4c",
   "metadata": {},
   "source": [
    "As we can see from the plot, the state is prepared into $|s\\rangle$."
   ]
  },
  {
   "cell_type": "markdown",
   "id": "c92811d9-3724-4a60-a813-d047c2383193",
   "metadata": {},
   "source": [
    "#### Oracle \n",
    "\n",
    "We need now to construct the oracle $U_f$. This can be done firstly building a function:\n",
    "\n",
    "$$ f: \\{0,1\\}^n \\to \\{0,1\\} $$\n",
    "\n",
    "which returns $1$ in the only case in which the input variable $x$ is the one we are searching for, otherwise it returns $0$. Given this, the oracle $U_f$ acts on the $N$-qubits state $|x\\rangle$ in the following way: $$ U_f |x\\rangle = (-1)^{f(x)}|x\\rangle, $$\n",
    "\n",
    "flipping the amplitude of the state only if $|x\\rangle$ is the guilty one:\n",
    "\n",
    "$$ \n",
    "\\begin{cases}\n",
    "U_f\\,|x\\rangle = - |x\\rangle \\qquad \\text{if} \\quad |x\\rangle \\quad \\text{guilty}, \\\\\n",
    "U_f\\,|x\\rangle = + |x\\rangle \\qquad \\text{if} \\quad |x\\rangle \\quad \\text{innocent}. \\\\\n",
    "\\end{cases}\n",
    "$$\n",
    "\n",
    "The easiest way to implement such an operator consists in building a multi-controlled gate which is \"triggered\" by the guilty state only. It means we need to define a gate which acts on the ancilla and, with its action, it provokes a phase kickback effect on the guilty state only. \n",
    "\n",
    "Since the multi-controlled gate is typically activated by the component $|1\\rangle^{\\otimes N}$ of the input register state, if the guilty state is the $|1\\rangle^{\\otimes N}$ itself, our job gets easier: in fact, the multi-controlled gate will already do the job we want to do. \n",
    "\n",
    "Otherwise, if the guilty state is something different from $|1\\rangle^{\\otimes N}$, we just need to manipulate the input register state so that the component which activates the gate is the guilty one instead. A simple way of doing this is apply a NOT gate to each qubit of the system which, in the bitstring, corresponds to a zero. "
   ]
  },
  {
   "cell_type": "code",
   "execution_count": 11,
   "id": "7c3be9e0-4148-43d2-8ec5-4ee6f3b29f13",
   "metadata": {},
   "outputs": [],
   "source": [
    "def build_oracle(guilty_index, n):\n",
    "    \"\"\"Swap the guilty state.\"\"\"\n",
    "    # we pick up the guilty string\n",
    "    bitstring = bitstrings[guilty_index]\n",
    "    # n+1 qubits circuit\n",
    "    circuit = Circuit(n+1)\n",
    "    zeros = []\n",
    "    for i, bit in enumerate(bitstring):\n",
    "        if bit == \"0\":\n",
    "            zeros.append(i)\n",
    "    [circuit.add(gates.X(q)) for q in zeros]\n",
    "    # triggered only if the control state is |111111>\n",
    "    circuit.add(gates.X(q=n).controlled_by(*range(n)))\n",
    "    [circuit.add(gates.X(q)) for q in zeros]\n",
    "    return circuit"
   ]
  },
  {
   "cell_type": "markdown",
   "id": "a1245be3-ee0f-4a6b-8f95-f569dc833733",
   "metadata": {},
   "source": [
    "Let's have a look to the circuit."
   ]
  },
  {
   "cell_type": "code",
   "execution_count": 10,
   "id": "b58418db-96a5-4a3e-962e-170204c58fc4",
   "metadata": {},
   "outputs": [],
   "source": [
    "# build the oracle circuit and draw it"
   ]
  },
  {
   "cell_type": "markdown",
   "id": "dcffd328-8dad-41b4-aa65-04c1b68d073d",
   "metadata": {},
   "source": [
    "Execute the whole circuit involving the oracle."
   ]
  },
  {
   "cell_type": "code",
   "execution_count": 11,
   "id": "e47c2e82-d6dc-4ef4-a072-0eaa192e5960",
   "metadata": {},
   "outputs": [],
   "source": [
    "# combine together initial_layer + oracle + final_layer and draw the circuit"
   ]
  },
  {
   "cell_type": "markdown",
   "id": "8ea4f10e-d2e0-4608-8f6b-f5beac03cf5c",
   "metadata": {},
   "source": [
    "We can visualize the amplitudes of the input register using the function `qiboedu.scripts.plotscripts.plot_input_register_amplitudes`."
   ]
  },
  {
   "cell_type": "code",
   "execution_count": 12,
   "id": "a5172e0b-889c-4d19-b0fe-74db83f10817",
   "metadata": {},
   "outputs": [],
   "source": [
    "# plot the input register amplitudes using plot_input_register_amplitudes"
   ]
  },
  {
   "cell_type": "markdown",
   "id": "7f2e2374-17d6-4736-b0f9-4d7efdceffb4",
   "metadata": {},
   "source": [
    "Even though the amplitude of the guilty state is flipped, if we look to the probabilies associated to the states of the input register we still collect an equally superposed state."
   ]
  },
  {
   "cell_type": "code",
   "execution_count": 13,
   "id": "0dbdc02d-9f87-4915-9049-f37fd9524d0f",
   "metadata": {},
   "outputs": [],
   "source": [
    "# plot the probabilities associated to this state using the plot_grover_probabilities function\n",
    "# it requires the circuit and nshots as arguments"
   ]
  },
  {
   "cell_type": "markdown",
   "id": "d51fd8f5-04b1-4ae2-bf35-281f89d6dae3",
   "metadata": {},
   "source": [
    "#### The diffusion operator\n",
    "\n",
    "The next step in Grover is to implement the diffusion operator, whose effect is to amplify the guilty amplitude while decreasing the others.\n",
    "One way to implement this kind of operator is applying an Hadamard gate and a X gate to each qubit of the input register. These steps are useful to re-align all the qubits into the computational basis and then prepare them to the subsequent flip around the average. Then we apply a multi-controlled X gate to the ancilla qubit, and this is the fundamental step into the Grover diffusion operator: this action will create the phase flip of the qubits around the average superposed state. Finally, we apply again the X gates and the H gates, coming back to the superposed state and amplifying the target amplituted because of the interference."
   ]
  },
  {
   "cell_type": "code",
   "execution_count": 16,
   "id": "63bd49c4-1671-4ff8-8b4f-98f9e77d004a",
   "metadata": {},
   "outputs": [],
   "source": [
    "def build_diffusion_operator(n):\n",
    "    # n+1 qubits circuit\n",
    "    circuit = Circuit(n+1)\n",
    "    circuit.add(gates.X(n))\n",
    "    for q in range(n):\n",
    "        circuit.add(gates.H(q=q))\n",
    "        circuit.add(gates.X(q=q))\n",
    "    circuit.add(gates.X(q=n).controlled_by(*range(n)))\n",
    "    for q in range(n):\n",
    "        circuit.add(gates.X(q=q))\n",
    "        circuit.add(gates.H(q=q))\n",
    "    return circuit"
   ]
  },
  {
   "cell_type": "code",
   "execution_count": 17,
   "id": "1d507d4e-36e1-405f-a35d-b990b3909fc5",
   "metadata": {},
   "outputs": [],
   "source": [
    "def build_grover(n, nsteps):\n",
    "    \"\"\"Build grover circuit with `n` qubits and repeating grover iteration `steps` times.\"\"\"\n",
    "    # n+1 qubits circuit\n",
    "    c = Circuit(n+1)\n",
    "    # initial layer\n",
    "    c += build_initial_layer(n)\n",
    "    # repeat nstepts time oracle + diffusion operator\n",
    "    for _ in range(nsteps):\n",
    "        # build_oracle requires guilty_index and n\n",
    "        c += build_oracle(guilty_index, n)\n",
    "        # build_diffusion operator requires just n\n",
    "        c += build_diffusion_operator(n)\n",
    "    # final layer\n",
    "    c += build_final_layer(n)\n",
    "    return c"
   ]
  },
  {
   "cell_type": "code",
   "execution_count": 14,
   "id": "acc5688a-114f-42c6-a080-148e26499f72",
   "metadata": {},
   "outputs": [],
   "source": [
    "# build grover circuit with nsteps=1\n",
    "\n",
    "# draw the circuit"
   ]
  },
  {
   "cell_type": "code",
   "execution_count": 15,
   "id": "2ef15536-f0fd-4652-abb8-6710d8574700",
   "metadata": {},
   "outputs": [],
   "source": [
    "# plot_grover_probabilities, passing grover circuit and nshots"
   ]
  },
  {
   "cell_type": "code",
   "execution_count": 16,
   "id": "2c2109a0-688d-4327-9a4d-a16fc2d2e43a",
   "metadata": {},
   "outputs": [],
   "source": [
    "# build grover circuit with nsteps=2\n",
    "\n",
    "# draw the circuit"
   ]
  },
  {
   "cell_type": "code",
   "execution_count": 17,
   "id": "21f77ae0-40e9-4eea-81ed-f72f846e1c9b",
   "metadata": {},
   "outputs": [],
   "source": [
    "# plot_grover_probabilities, passing grover circuit and nshots"
   ]
  },
  {
   "cell_type": "markdown",
   "id": "7debabf1-73f3-433c-b115-06c4dcd14ef2",
   "metadata": {},
   "source": [
    "From the plot and the amplitudes of the final state it is clearer and clearer who is the guilty person!\n",
    "In the following cell we check explicitly who is the guilty person."
   ]
  },
  {
   "cell_type": "code",
   "execution_count": 22,
   "id": "3ce08341-d2e7-4c95-bac7-5b54c633c410",
   "metadata": {},
   "outputs": [
    {
     "name": "stdout",
     "output_type": "stream",
     "text": [
      "The guilty state is 01011 with probability 0.6024246215820284, corresponding to Nicholas Harris!\n"
     ]
    }
   ],
   "source": [
    "state = c().state()\n",
    "\n",
    "# removing the dependence on the ancilla\n",
    "amplitudes = []\n",
    "\n",
    "for i in range(0, len(state), 2):\n",
    "    amplitudes.append((1/np.sqrt(2))*(np.real(state[i])-np.real(state[i+1])))\n",
    "\n",
    "probs = np.array(amplitudes)**2\n",
    "\n",
    "index = np.argmax(probs)\n",
    "print(f\"The guilty state is {bitstrings[index]} with probability {probs[index]}, corresponding to {names[index]}!\")"
   ]
  },
  {
   "cell_type": "markdown",
   "id": "aeb3e78c-571e-48dc-bb39-801864000e5c",
   "metadata": {},
   "source": [
    "We expect the optimal number of Grover steps is $\\pi/4 \\sqrt{M}$ from the theoretical results.\n",
    "Let's check what happens with a growing number of steps."
   ]
  },
  {
   "cell_type": "code",
   "execution_count": 23,
   "id": "d6478a10-93d5-42f0-b837-46da87c37867",
   "metadata": {},
   "outputs": [
    {
     "name": "stdout",
     "output_type": "stream",
     "text": [
      "Optimal number of steps: 4.442882938158366\n"
     ]
    }
   ],
   "source": [
    "opt = (np.pi / 4) * np.sqrt(2**n)\n",
    "print(f\"Optimal number of steps: {opt}\")"
   ]
  },
  {
   "cell_type": "code",
   "execution_count": 18,
   "id": "97282b7b-bcc1-48f0-9057-6aba57d137b6",
   "metadata": {},
   "outputs": [],
   "source": [
    "# allocate empty max probabilities list\n",
    "prob_target = []\n",
    "\n",
    "# set the number of experiments, e.g. for nsteps up to 10 and use build_grover(n, nsteps)\n",
    "\n",
    "# check for number of steps in np.arange(0, nsteps) using the utils.compute_max_probability(c, nshots) function"
   ]
  },
  {
   "cell_type": "markdown",
   "id": "9764f64d-55a0-421f-8f58-0c3a33362cc9",
   "metadata": {},
   "source": [
    "Plot the sequence of registered probabilities."
   ]
  },
  {
   "cell_type": "code",
   "execution_count": 25,
   "id": "23f99d0d-3410-4d0a-8dec-e83613683169",
   "metadata": {},
   "outputs": [
    {
     "data": {
      "image/png": "[encoded data removed]",
      "text/plain": [
       "<Figure size 700x350 with 1 Axes>"
      ]
     },
     "metadata": {},
     "output_type": "display_data"
    }
   ],
   "source": [
    "plt.figure(figsize=(7, 7*4/8))\n",
    "plt.plot(np.arange(1, N+1), prob_target, ls=\"-\", marker=\".\", markersize=15, alpha=0.6, color=\"purple\")\n",
    "plt.plot(np.arange(1, N+1), prob_target, ls=\"-\", color=\"black\", label=\"Grover estimation\")\n",
    "plt.vlines(opt, 0, 1.1, color=\"red\", ls=\"--\", label=\"Ideal number of iterations\")\n",
    "plt.xticks(np.arange(1, N+1))\n",
    "plt.title(r\"$|g\\rangle$ probability with Grover steps\")\n",
    "plt.xlabel(\"Number of steps\")\n",
    "plt.ylabel(\"Target probability\")\n",
    "plt.legend()\n",
    "plt.show()"
   ]
  },
  {
   "cell_type": "code",
   "execution_count": 19,
   "id": "7d32ed8c-721d-4bb9-b8fb-48bab87a4208",
   "metadata": {},
   "outputs": [],
   "source": [
    "# build grover circuit with nsteps=2\n",
    "\n",
    "# draw the circuit"
   ]
  },
  {
   "cell_type": "code",
   "execution_count": 20,
   "id": "0471706d-f00a-4961-9091-7312613a552a",
   "metadata": {},
   "outputs": [],
   "source": [
    "# plot probabilities with plot_grover_probabilities"
   ]
  },
  {
   "cell_type": "code",
   "execution_count": null,
   "id": "b2db2b2e-988b-45b7-9c01-10729fa1474b",
   "metadata": {},
   "outputs": [],
   "source": []
  }
 ],
 "metadata": {
  "kernelspec": {
   "display_name": "Python 3 (ipykernel)",
   "language": "python",
   "name": "python3"
  },
  "language_info": {
   "codemirror_mode": {
    "name": "ipython",
    "version": 3
   },
   "file_extension": ".py",
   "mimetype": "text/x-python",
   "name": "python",
   "nbconvert_exporter": "python",
   "pygments_lexer": "ipython3",
   "version": "3.10.0"
  }
 },
 "nbformat": 4,
 "nbformat_minor": 5
}
