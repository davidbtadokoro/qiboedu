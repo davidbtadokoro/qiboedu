{
 "cells": [
  {
   "cell_type": "markdown",
   "id": "ea39ef5c-4a2c-4483-ab9e-13b2f16391a2",
   "metadata": {
    "slideshow": {
     "slide_type": ""
    },
    "tags": []
   },
   "source": [
    "# Lecture 1: introduction to `qibo`\n",
    "\n",
    "<center><img src=\"figures/dall-e/merlion_qibo.png\" alt=\"drawing\" width=\"400\"/></center>\n",
    "<center><strong>Fig. 1:</strong> The merlion learning Qibo [DALL-E].</center>\n",
    "\n",
    "### Introduction\n",
    "\n",
    "During this course we are going to use `Qibo`, an open source framework for quantum computing. It provides us with an high level language which can be used to implement algorithms with both circuit-based and adiabatic computation approaches and, once the code is set up, it can be easily executed on various engines, including both classical and quantum hardware. \n",
    "\n",
    "<center><img src=\"figures/qibo_ecosystem.svg\" alt=\"drawing\" width=\"800\"/></center>\n",
    "\n",
    "For more info about the whole framework one can have a look to the [`qibo` webpage](https://qibo.science/).\n",
    "\n",
    "### Setup\n",
    "We start installing `qibo` and then importing some useful primitives."
   ]
  },
  {
   "cell_type": "code",
   "execution_count": 1,
   "id": "7cfa5db6-4d2e-40b5-81ce-c8891ebade1f",
   "metadata": {},
   "outputs": [
    {
     "name": "stdout",
     "output_type": "stream",
     "text": [
      "Requirement already satisfied: qibo in /home/matteo/Documents/PhD/envs/qibo/lib/python3.10/site-packages (0.2.4)\n",
      "Requirement already satisfied: cma<4.0.0,>=3.3.0 in /home/matteo/Documents/PhD/envs/qibo/lib/python3.10/site-packages (from qibo) (3.3.0)\n",
      "Requirement already satisfied: hyperopt<0.3.0,>=0.2.7 in /home/matteo/Documents/PhD/envs/qibo/lib/python3.10/site-packages (from qibo) (0.2.7)\n",
      "Requirement already satisfied: joblib<2.0.0,>=1.2.0 in /home/matteo/Documents/PhD/envs/qibo/lib/python3.10/site-packages (from qibo) (1.3.2)\n",
      "Requirement already satisfied: scipy<2.0.0,>=1.10.1 in /home/matteo/Documents/PhD/envs/qibo/lib/python3.10/site-packages (from qibo) (1.11.4)\n",
      "Requirement already satisfied: sympy<2.0.0,>=1.11.1 in /home/matteo/Documents/PhD/envs/qibo/lib/python3.10/site-packages (from qibo) (1.12)\n",
      "Requirement already satisfied: tabulate<0.10.0,>=0.9.0 in /home/matteo/Documents/PhD/envs/qibo/lib/python3.10/site-packages (from qibo) (0.9.0)\n",
      "Requirement already satisfied: numpy in /home/matteo/Documents/PhD/envs/qibo/lib/python3.10/site-packages (from cma<4.0.0,>=3.3.0->qibo) (1.24.4)\n",
      "Requirement already satisfied: six in /home/matteo/Documents/PhD/envs/qibo/lib/python3.10/site-packages (from hyperopt<0.3.0,>=0.2.7->qibo) (1.16.0)\n",
      "Requirement already satisfied: networkx>=2.2 in /home/matteo/Documents/PhD/envs/qibo/lib/python3.10/site-packages (from hyperopt<0.3.0,>=0.2.7->qibo) (3.2.1)\n",
      "Requirement already satisfied: future in /home/matteo/Documents/PhD/envs/qibo/lib/python3.10/site-packages (from hyperopt<0.3.0,>=0.2.7->qibo) (0.18.3)\n",
      "Requirement already satisfied: tqdm in /home/matteo/Documents/PhD/envs/qibo/lib/python3.10/site-packages (from hyperopt<0.3.0,>=0.2.7->qibo) (4.66.1)\n",
      "Requirement already satisfied: cloudpickle in /home/matteo/Documents/PhD/envs/qibo/lib/python3.10/site-packages (from hyperopt<0.3.0,>=0.2.7->qibo) (3.0.0)\n",
      "Requirement already satisfied: py4j in /home/matteo/Documents/PhD/envs/qibo/lib/python3.10/site-packages (from hyperopt<0.3.0,>=0.2.7->qibo) (0.10.9.7)\n",
      "Requirement already satisfied: mpmath>=0.19 in /home/matteo/Documents/PhD/envs/qibo/lib/python3.10/site-packages (from sympy<2.0.0,>=1.11.1->qibo) (1.3.0)\n",
      "Requirement already satisfied: qibojit in /home/matteo/Documents/PhD/envs/qibo/lib/python3.10/site-packages (0.1.1)\n",
      "Requirement already satisfied: numba>=0.51.0 in /home/matteo/Documents/PhD/envs/qibo/lib/python3.10/site-packages (from qibojit) (0.58.0)\n",
      "Requirement already satisfied: psutil<6.0.0,>=5.9.5 in /home/matteo/Documents/PhD/envs/qibo/lib/python3.10/site-packages (from qibojit) (5.9.6)\n",
      "Requirement already satisfied: qibo>=0.2.0 in /home/matteo/Documents/PhD/envs/qibo/lib/python3.10/site-packages (from qibojit) (0.2.4)\n",
      "Requirement already satisfied: scipy<2.0.0,>=1.10.1 in /home/matteo/Documents/PhD/envs/qibo/lib/python3.10/site-packages (from qibojit) (1.11.4)\n",
      "Requirement already satisfied: llvmlite<0.42,>=0.41.0dev0 in /home/matteo/Documents/PhD/envs/qibo/lib/python3.10/site-packages (from numba>=0.51.0->qibojit) (0.41.0)\n",
      "Requirement already satisfied: numpy<1.26,>=1.21 in /home/matteo/Documents/PhD/envs/qibo/lib/python3.10/site-packages (from numba>=0.51.0->qibojit) (1.24.4)\n",
      "Requirement already satisfied: cma<4.0.0,>=3.3.0 in /home/matteo/Documents/PhD/envs/qibo/lib/python3.10/site-packages (from qibo>=0.2.0->qibojit) (3.3.0)\n",
      "Requirement already satisfied: hyperopt<0.3.0,>=0.2.7 in /home/matteo/Documents/PhD/envs/qibo/lib/python3.10/site-packages (from qibo>=0.2.0->qibojit) (0.2.7)\n",
      "Requirement already satisfied: joblib<2.0.0,>=1.2.0 in /home/matteo/Documents/PhD/envs/qibo/lib/python3.10/site-packages (from qibo>=0.2.0->qibojit) (1.3.2)\n",
      "Requirement already satisfied: sympy<2.0.0,>=1.11.1 in /home/matteo/Documents/PhD/envs/qibo/lib/python3.10/site-packages (from qibo>=0.2.0->qibojit) (1.12)\n",
      "Requirement already satisfied: tabulate<0.10.0,>=0.9.0 in /home/matteo/Documents/PhD/envs/qibo/lib/python3.10/site-packages (from qibo>=0.2.0->qibojit) (0.9.0)\n",
      "Requirement already satisfied: six in /home/matteo/Documents/PhD/envs/qibo/lib/python3.10/site-packages (from hyperopt<0.3.0,>=0.2.7->qibo>=0.2.0->qibojit) (1.16.0)\n",
      "Requirement already satisfied: networkx>=2.2 in /home/matteo/Documents/PhD/envs/qibo/lib/python3.10/site-packages (from hyperopt<0.3.0,>=0.2.7->qibo>=0.2.0->qibojit) (3.2.1)\n",
      "Requirement already satisfied: future in /home/matteo/Documents/PhD/envs/qibo/lib/python3.10/site-packages (from hyperopt<0.3.0,>=0.2.7->qibo>=0.2.0->qibojit) (0.18.3)\n",
      "Requirement already satisfied: tqdm in /home/matteo/Documents/PhD/envs/qibo/lib/python3.10/site-packages (from hyperopt<0.3.0,>=0.2.7->qibo>=0.2.0->qibojit) (4.66.1)\n",
      "Requirement already satisfied: cloudpickle in /home/matteo/Documents/PhD/envs/qibo/lib/python3.10/site-packages (from hyperopt<0.3.0,>=0.2.7->qibo>=0.2.0->qibojit) (3.0.0)\n",
      "Requirement already satisfied: py4j in /home/matteo/Documents/PhD/envs/qibo/lib/python3.10/site-packages (from hyperopt<0.3.0,>=0.2.7->qibo>=0.2.0->qibojit) (0.10.9.7)\n",
      "Requirement already satisfied: mpmath>=0.19 in /home/matteo/Documents/PhD/envs/qibo/lib/python3.10/site-packages (from sympy<2.0.0,>=1.11.1->qibo>=0.2.0->qibojit) (1.3.0)\n"
     ]
    }
   ],
   "source": [
    "# if you don't have already qibo and qibojit installed in your computer\n",
    "!pip install qibo\n",
    "!pip install qibojit"
   ]
  },
  {
   "cell_type": "markdown",
   "id": "d76c20bf-86d0-405f-b5cf-39d75a906090",
   "metadata": {},
   "source": [
    "A crucial step is the backend choice. In qibo four backends are provided, and can be used for different kind of applications.\n",
    "\n",
    "<center><img src=\"./figures/backends.svg\" alt=\"drawing\" width=\"800\"/></center>\n",
    "\n",
    "The blue backends correspond to classical hardware, while the red one can be selected if we want to execute our algorithm directly on a quantum computer.\n",
    "\n",
    "Since we want to do simulation here, we set the `qibojit` backend, which is the most suitable one if we want to run simulation with many qubits."
   ]
  },
  {
   "cell_type": "code",
   "execution_count": 2,
   "id": "5d435ad7-e8d6-4e3d-b741-62e62374501d",
   "metadata": {},
   "outputs": [],
   "source": [
    "# some imports from qibo + numpy\n",
    "import numpy as np\n",
    "\n",
    "import qibo\n",
    "from qibo import Circuit, gates, hamiltonians"
   ]
  },
  {
   "cell_type": "code",
   "execution_count": 3,
   "id": "fccbf7e1-ac19-4693-95a0-df0715ab5738",
   "metadata": {},
   "outputs": [
    {
     "name": "stderr",
     "output_type": "stream",
     "text": [
      "[Qibo 0.2.4|INFO|2024-02-01 16:54:15]: Using qibojit (numba) backend on /CPU:0\n"
     ]
    }
   ],
   "source": [
    "# with the following line we set the desired backend\n",
    "qibo.set_backend(backend=\"qibojit\", platform=\"numba\")"
   ]
  },
  {
   "cell_type": "code",
   "execution_count": 4,
   "id": "9006f792-f6b6-4c0a-935d-fe31795934c5",
   "metadata": {},
   "outputs": [],
   "source": [
    "# if qibojit is selected, we can specify the number of classical threads to be used\n",
    "qibo.set_threads(16)"
   ]
  },
  {
   "cell_type": "markdown",
   "id": "3d37e2a1-590c-4a60-85da-d4dc943aceaf",
   "metadata": {},
   "source": [
    "### Build my first `qibo` circuit\n",
    "\n",
    "Now we are ready to code our first quantum circuit using `qibo`."
   ]
  },
  {
   "cell_type": "code",
   "execution_count": 5,
   "id": "14c160b4-c606-4495-9d60-6e03ae2607ec",
   "metadata": {},
   "outputs": [
    {
     "name": "stdout",
     "output_type": "stream",
     "text": [
      "q0: ─\n",
      "q1: ─\n",
      "q2: ─\n",
      "q3: ─\n"
     ]
    }
   ],
   "source": [
    "# set the number of qubits\n",
    "nqubits = 4\n",
    "\n",
    "# we initialise the circuit using the Circuit class\n",
    "c = Circuit(nqubits=nqubits)\n",
    "\n",
    "print(c.draw())"
   ]
  },
  {
   "cell_type": "markdown",
   "id": "2c204b65-9fc1-4090-8575-301ceba69dbd",
   "metadata": {},
   "source": [
    "Secondly, we add some gates to the circuit. A more detailed list of all the available gates can be found in the [`qibo` documentation](https://qibo.science/qibo/stable/api-reference/qibo.html#gates)."
   ]
  },
  {
   "cell_type": "code",
   "execution_count": 6,
   "id": "d2725323-8fb9-409f-9349-d4178e548522",
   "metadata": {},
   "outputs": [],
   "source": [
    "# let's add some gates\n",
    "\n",
    "# hadamards\n",
    "c.add(gates.H(q=0))\n",
    "c.add(gates.H(q=1))\n",
    "\n",
    "# pauli's\n",
    "c.add(gates.Z(q=3))\n",
    "c.add(gates.X(q=0))\n",
    "\n",
    "# controlled gates\n",
    "c.add(gates.CNOT(q0=0, q1=2))\n",
    "c.add(gates.CZ(q0=2, q1=1))\n",
    "\n",
    "# more freedom in controlling gates :)\n",
    "c.add(gates.Y(q=1).controlled_by(2,3,0))"
   ]
  },
  {
   "cell_type": "markdown",
   "id": "79dc74bf-88ea-400b-b4b0-063d8d11cefa",
   "metadata": {},
   "source": [
    "Once the circuit is completed, we can print some summary information."
   ]
  },
  {
   "cell_type": "code",
   "execution_count": 7,
   "id": "574c9282-5272-4e86-a5f7-0d31a5a4d8e4",
   "metadata": {},
   "outputs": [
    {
     "name": "stdout",
     "output_type": "stream",
     "text": [
      "Circuit depth = 5\n",
      "Total number of gates = 7\n",
      "Number of qubits = 4\n",
      "Most common gates:\n",
      "h: 2\n",
      "z: 1\n",
      "x: 1\n",
      "cx: 1\n",
      "cz: 1\n",
      "y: 1\n"
     ]
    }
   ],
   "source": [
    "# summary info\n",
    "print(c.summary())"
   ]
  },
  {
   "cell_type": "code",
   "execution_count": 8,
   "id": "9b898b1c-0f19-4ec0-a0f5-a16474287bf8",
   "metadata": {},
   "outputs": [
    {
     "name": "stdout",
     "output_type": "stream",
     "text": [
      "q0: ─H─X─o───o─\n",
      "q1: ─H───|─Z─Y─\n",
      "q2: ─────X─o─o─\n",
      "q3: ─Z───────o─\n"
     ]
    }
   ],
   "source": [
    "# circuit visualization\n",
    "print(c.draw())"
   ]
  },
  {
   "cell_type": "markdown",
   "id": "cb3cf14d-8a27-4c6d-9536-a122ee2febe8",
   "metadata": {},
   "source": [
    "At this point we already can execute the circuit.\n",
    "Note that, since we are playing with `nqubits = 4`, the final state will be a possible superposition of all the 4-bits combinations. We wrote a function in `scripts.utils` which can be used to create the list of all the possible bitstrings given the number of qubits:"
   ]
  },
  {
   "cell_type": "code",
   "execution_count": 9,
   "id": "fdcd49d1-d051-482f-b506-9eeb0052a102",
   "metadata": {},
   "outputs": [],
   "source": [
    "# we defined some utils functions\n",
    "from scripts.utils import generate_bitstring_combinations\n",
    "\n",
    "# one of them is to generate bitstrings combinations\n",
    "bitstrings = generate_bitstring_combinations(n=nqubits)"
   ]
  },
  {
   "cell_type": "code",
   "execution_count": 10,
   "id": "5c76a605-7c51-4ae9-b579-5da68f5b2d06",
   "metadata": {},
   "outputs": [
    {
     "name": "stdout",
     "output_type": "stream",
     "text": [
      "['0000', '0001', '0010', '0011', '0100', '0101', '0110', '0111', '1000', '1001', '1010', '1011', '1100', '1101', '1110', '1111']\n"
     ]
    }
   ],
   "source": [
    "print(bitstrings)"
   ]
  },
  {
   "cell_type": "markdown",
   "id": "4f80db87-6aa5-47b6-8d65-29fa254b24a9",
   "metadata": {},
   "source": [
    "Let's execute the circuit and verify which is the final state we get after the execution."
   ]
  },
  {
   "cell_type": "code",
   "execution_count": 11,
   "id": "553265ce-10f8-4fa2-a4d2-8f57549accdb",
   "metadata": {},
   "outputs": [
    {
     "name": "stdout",
     "output_type": "stream",
     "text": [
      "(0.5+0j)|0000> + (0.5+0j)|0100> + (0.5+0j)|1010> + (-0.5+0j)|1110>\n"
     ]
    }
   ],
   "source": [
    "# execute the circuit\n",
    "print(c())"
   ]
  },
  {
   "cell_type": "code",
   "execution_count": 12,
   "id": "0e1bb2c9-3235-4375-834f-434260266b3f",
   "metadata": {},
   "outputs": [
    {
     "name": "stdout",
     "output_type": "stream",
     "text": [
      "[ 0.5+0.j -0. +0.j  0. +0.j -0. +0.j  0.5+0.j -0. +0.j -0. +0.j  0. -0.j\n",
      "  0. +0.j -0. +0.j  0.5+0.j -0. +0.j  0. +0.j -0. +0.j -0.5+0.j -0. +0.j]\n"
     ]
    }
   ],
   "source": [
    "# print the final state\n",
    "print(c().state())\n",
    "\n",
    "outcome = c()"
   ]
  },
  {
   "cell_type": "markdown",
   "id": "e7e95000-97b3-49eb-8e61-9ff3d98def39",
   "metadata": {},
   "source": [
    "In this simple case we defined a circuit without adding measurement gates. What we get as result of such an execution is the exact state vector simulation of the final state.\n",
    "\n",
    "Since we simulated the exact final state, we can also have access to the final amplitudes, and so to the probabilities of collect some of the states corresponding to the list of bitstrings."
   ]
  },
  {
   "cell_type": "code",
   "execution_count": 13,
   "id": "cbde1e43-7dc0-4a23-a7ed-b5eac12a8939",
   "metadata": {},
   "outputs": [
    {
     "name": "stdout",
     "output_type": "stream",
     "text": [
      "[0.25 0.   0.   0.   0.25 0.   0.   0.   0.   0.   0.25 0.   0.   0.\n",
      " 0.25 0.  ]\n"
     ]
    }
   ],
   "source": [
    "# print probabilities from outcome\n",
    "probs = outcome.probabilities()\n",
    "\n",
    "print(probs)"
   ]
  },
  {
   "cell_type": "markdown",
   "id": "a375bc2f-3ee1-4964-b990-bdaf6f62fbfd",
   "metadata": {},
   "source": [
    "We can visualize them together with the bitstrings"
   ]
  },
  {
   "cell_type": "code",
   "execution_count": 14,
   "id": "ebf6c4d6-3cfa-4695-94c5-69641575fdcf",
   "metadata": {},
   "outputs": [
    {
     "name": "stdout",
     "output_type": "stream",
     "text": [
      "Prob of state 0000 = 0.2499999999999999\n",
      "Prob of state 0001 = 0.0\n",
      "Prob of state 0010 = 0.0\n",
      "Prob of state 0011 = 0.0\n",
      "Prob of state 0100 = 0.2499999999999999\n",
      "Prob of state 0101 = 0.0\n",
      "Prob of state 0110 = 0.0\n",
      "Prob of state 0111 = 0.0\n",
      "Prob of state 1000 = 0.0\n",
      "Prob of state 1001 = 0.0\n",
      "Prob of state 1010 = 0.2499999999999999\n",
      "Prob of state 1011 = 0.0\n",
      "Prob of state 1100 = 0.0\n",
      "Prob of state 1101 = 0.0\n",
      "Prob of state 1110 = 0.2499999999999999\n",
      "Prob of state 1111 = 0.0\n"
     ]
    }
   ],
   "source": [
    "# print each bitstring side by side with its probability value\n",
    "for i in range(len(bitstrings)):\n",
    "    print(f\"Prob of state {bitstrings[i]} = {probs[i]}\")"
   ]
  },
  {
   "cell_type": "markdown",
   "id": "966da04c-609c-468c-ac5c-3af6361787ca",
   "metadata": {},
   "source": [
    "#### Add measurements gates\n",
    "We can, instead, add measurements gates in the end of the circuit, if we want to simulate a more realistic scenario affected by shot-noise.\n",
    "\n",
    "With shot-noise we mean the natural variance of quantum system, due to the fact that we need to measure the final state after applying the gates. In a realistic scenario we need to repeat the circuit execution many times and use the collected results to calculate an estimation of the probabilities."
   ]
  },
  {
   "cell_type": "code",
   "execution_count": 15,
   "id": "119d42d8-d3a2-421f-b638-b7746dfd6738",
   "metadata": {},
   "outputs": [
    {
     "name": "stdout",
     "output_type": "stream",
     "text": [
      "q0: ─H─X─o───o─M─\n",
      "q1: ─H───|─Z─Y─M─\n",
      "q2: ─────X─o─o─M─\n",
      "q3: ─Z───────o─M─\n"
     ]
    }
   ],
   "source": [
    "# we initialise the same circuit using the Circuit class\n",
    "c = Circuit(nqubits=nqubits)\n",
    "\n",
    "# we add the same gates of before\n",
    "# hadamards\n",
    "c.add(gates.H(q=0))\n",
    "c.add(gates.H(q=1))\n",
    "\n",
    "# pauli's\n",
    "c.add(gates.Z(q=3))\n",
    "c.add(gates.X(q=0))\n",
    "\n",
    "# controlled gates\n",
    "c.add(gates.CNOT(q0=0, q1=2))\n",
    "c.add(gates.CZ(q0=2, q1=1))\n",
    "\n",
    "# more freedom in controlling gates :)\n",
    "c.add(gates.Y(q=1).controlled_by(2,3,0))\n",
    "\n",
    "# we also add measurements gates\n",
    "c.add(gates.M(*range(nqubits)))\n",
    "\n",
    "# print the new face of the circuit\n",
    "print(c.draw())"
   ]
  },
  {
   "cell_type": "markdown",
   "id": "8a2b177e-aff1-433e-be8d-ce0727effda8",
   "metadata": {},
   "source": [
    "Again, we can execute the circuit and collect the outcome.\n",
    "\n",
    "At this time, we also specify a number of shots."
   ]
  },
  {
   "cell_type": "code",
   "execution_count": 16,
   "id": "18cd91e2-0476-426a-96b3-b02479e92492",
   "metadata": {},
   "outputs": [
    {
     "name": "stdout",
     "output_type": "stream",
     "text": [
      "(0.5+0j)|0000> + (0.5+0j)|0100> + (0.5+0j)|1010> + (-0.5+0j)|1110>\n"
     ]
    }
   ],
   "source": [
    "# collect the outcome after setting a number of circuit shots\n",
    "outcome = c(nshots=1000)\n",
    "\n",
    "print(outcome)"
   ]
  },
  {
   "cell_type": "markdown",
   "id": "87cdbba7-2749-4069-ad49-86adf04a230a",
   "metadata": {},
   "source": [
    "We can still collect the exact probabilities"
   ]
  },
  {
   "cell_type": "code",
   "execution_count": 17,
   "id": "3a934013-9875-4c99-9a36-e6397e393bde",
   "metadata": {},
   "outputs": [
    {
     "data": {
      "text/plain": [
       "array([0.25, 0.  , 0.  , 0.  , 0.25, 0.  , 0.  , 0.  , 0.  , 0.  , 0.25,\n",
       "       0.  , 0.  , 0.  , 0.25, 0.  ])"
      ]
     },
     "execution_count": 17,
     "metadata": {},
     "output_type": "execute_result"
    }
   ],
   "source": [
    "# for all the qubits\n",
    "outcome.probabilities()"
   ]
  },
  {
   "cell_type": "code",
   "execution_count": 18,
   "id": "8dfed3be-e473-48d4-b764-a723ccdbd1d2",
   "metadata": {},
   "outputs": [
    {
     "data": {
      "text/plain": [
       "array([0.5, 0. , 0.5, 0. ])"
      ]
     },
     "execution_count": 18,
     "metadata": {},
     "output_type": "execute_result"
    }
   ],
   "source": [
    "# or for some specific qubit of the system\n",
    "outcome.probabilities(qubits=[0,3])"
   ]
  },
  {
   "cell_type": "markdown",
   "id": "b70cbefb-4159-4a38-8cdc-7f415701c732",
   "metadata": {},
   "source": [
    "We can also collect frequencies"
   ]
  },
  {
   "cell_type": "code",
   "execution_count": 19,
   "id": "c592d714-ceb8-4ba3-ab53-62d0c4ce6978",
   "metadata": {},
   "outputs": [
    {
     "name": "stdout",
     "output_type": "stream",
     "text": [
      "Counter({'0100': 266, '1110': 253, '1010': 248, '0000': 233})\n"
     ]
    }
   ],
   "source": [
    "# frequencies\n",
    "# set binary=True if you want the amplitude binary notation\n",
    "frequencies = outcome.frequencies()\n",
    "\n",
    "print(frequencies)"
   ]
  },
  {
   "cell_type": "markdown",
   "id": "1379e09a-cb33-4e50-a040-092451a7e215",
   "metadata": {},
   "source": [
    "#### State visualization\n",
    "We can use the `scripts.plotscripts.visualize_state` function, which takes as an argument the counter object you get calling `circuit(nshots=nshots).frequencies(binary=True)`."
   ]
  },
  {
   "cell_type": "code",
   "execution_count": 20,
   "id": "cfa69dad-8f95-43f2-9e92-85b813bde8e1",
   "metadata": {},
   "outputs": [],
   "source": [
    "# let's import the plotting function\n",
    "from scripts.plotscripts import visualize_states"
   ]
  },
  {
   "cell_type": "code",
   "execution_count": 21,
   "id": "f19f849b-a401-415e-8c46-efcd1efce1fc",
   "metadata": {},
   "outputs": [],
   "source": [
    "# we collect the counter object containing the frequencies\n",
    "frequencies = outcome.frequencies(binary=True)"
   ]
  },
  {
   "cell_type": "code",
   "execution_count": 22,
   "id": "78106528-392f-49e6-9d79-f13e65215565",
   "metadata": {},
   "outputs": [
    {
     "data": {
      "image/png": "[encoded data removed]",
      "text/plain": [
       "<Figure size 500x375 with 1 Axes>"
      ]
     },
     "metadata": {},
     "output_type": "display_data"
    }
   ],
   "source": [
    "# we call the plotting function\n",
    "visualize_states(frequencies)"
   ]
  },
  {
   "cell_type": "markdown",
   "id": "7c98d130-bdb6-45e7-abbf-8b95394c25af",
   "metadata": {},
   "source": [
    "#### Combining circuits into a single circuit \n",
    "\n",
    "It is possible to sum together two or more circuits (with the same number of qubits) into one."
   ]
  },
  {
   "cell_type": "code",
   "execution_count": 23,
   "id": "efb2c28e-ff80-42a8-8886-f3bed421ad98",
   "metadata": {},
   "outputs": [
    {
     "name": "stdout",
     "output_type": "stream",
     "text": [
      "Circuit n1:\n",
      "q0: ─H─X───\n",
      "q1: ───o─Z─\n",
      "q2: ───────\n",
      "\n",
      "Circuit n2:\n",
      "q0: ───────\n",
      "q1: ─Z─Y─Z─\n",
      "q2: ─H───o─\n",
      "\n",
      "q0: ─H─X─────────\n",
      "q1: ───o─Z─Z─Y─Z─\n",
      "q2: ─────H─────o─\n"
     ]
    }
   ],
   "source": [
    "# initialize c1\n",
    "c1 = Circuit(3)\n",
    "c1.add(gates.H(0))\n",
    "c1.add(gates.CNOT(1,0))\n",
    "c1.add(gates.Z(1))\n",
    "\n",
    "# initialize c2\n",
    "c2 = Circuit(3)\n",
    "c2.add(gates.H(2))\n",
    "c2.add(gates.Z(1))\n",
    "c2.add(gates.Y(1))\n",
    "c2.add(gates.CZ(2,1))\n",
    "\n",
    "# let's print them\n",
    "print(f\"Circuit n1:\\n{c1.draw()}\\n\")\n",
    "print(f\"Circuit n2:\\n{c2.draw()}\\n\")\n",
    "\n",
    "# combine them into a single circuit\n",
    "c = c1 + c2\n",
    "\n",
    "# print the final circuit\n",
    "print(c.draw())"
   ]
  },
  {
   "cell_type": "markdown",
   "id": "11cc2deb-a8fb-4e05-87d4-e0a9962518c9",
   "metadata": {},
   "source": [
    "#### Let's simulate some entanglement\n",
    "\n",
    "We can simulate the smallest entangling system in order to reproduce one of the Bell's states\n",
    "\n",
    "$$ |b_1\\rangle = \\frac{|00\\rangle + |11\\rangle}{\\sqrt{2}} \\\\. $$\n",
    "\n",
    "To do this, we need to create a two-qubit circuit, lead one of the two qubits to a superposed state using an Hadamard gate and then apply a controlled-NOT gate to the second qubit using the superposed one as control."
   ]
  },
  {
   "cell_type": "code",
   "execution_count": 24,
   "id": "b7ad962c-48fc-44a2-b253-7d9ada15859e",
   "metadata": {},
   "outputs": [
    {
     "data": {
      "text/plain": [
       "MeasurementResult(qubits=(0, 1), nshots=0)"
      ]
     },
     "execution_count": 24,
     "metadata": {},
     "output_type": "execute_result"
    }
   ],
   "source": [
    "# two qubit circuit to simulate the first Bell's state\n",
    "c = Circuit(2)\n",
    "c.add(gates.H(0))\n",
    "c.add(gates.CNOT(q0=0, q1=1))\n",
    "c.add(gates.M(*range(2)))"
   ]
  },
  {
   "cell_type": "code",
   "execution_count": 25,
   "id": "beea5570-b912-4304-83e7-69798d643cc7",
   "metadata": {},
   "outputs": [
    {
     "name": "stdout",
     "output_type": "stream",
     "text": [
      "(0.70711+0j)|00> + (0.70711+0j)|11>\n"
     ]
    }
   ],
   "source": [
    "print(c(nshots=1000))"
   ]
  },
  {
   "cell_type": "code",
   "execution_count": 26,
   "id": "3a393650-74b6-4513-a90d-1bb355e8ba0a",
   "metadata": {},
   "outputs": [
    {
     "data": {
      "image/png": "[encoded data removed]",
      "text/plain": [
       "<Figure size 500x375 with 1 Axes>"
      ]
     },
     "metadata": {},
     "output_type": "display_data"
    }
   ],
   "source": [
    "# collect outcome and frequencies\n",
    "freq = c(nshots=1000).frequencies(binary=True)\n",
    "\n",
    "# visualize it\n",
    "visualize_states(freq)"
   ]
  },
  {
   "cell_type": "markdown",
   "id": "7676e840-4812-40e0-a8b5-a36c0dd54cdc",
   "metadata": {},
   "source": [
    "<div style=\"background-color: rgba(255, 105, 105, 0.3); border: 2.5px solid #000000; padding: 15px;\">\n",
    "    <strong>Exercise:</strong> implement the quantum circuits needed to prepare the other three Bell's states:\n",
    "    $$ |b_2\\rangle = \\frac{|00\\rangle - |11\\rangle}{\\sqrt{2}},\\qquad |b_3\\rangle = \\frac{|10\\rangle + |01\\rangle}{\\sqrt{2}},\\qquad |b_4\\rangle = \\frac{|01\\rangle - |10\\rangle}{\\sqrt{2}} \\\\. $$\n",
    "</div>"
   ]
  },
  {
   "cell_type": "markdown",
   "id": "752f208c-5f8d-4439-912c-f4b68b6268d4",
   "metadata": {},
   "source": [
    "### Parametrized gates\n",
    "\n",
    "We can use parametric gates to manipulate the quantum state with some more freedom. \n",
    "\n",
    "The most commonly used parametric gates are rotations $R_k(\\theta) = \\exp [ -i \\theta \\sigma_k ] $, where $\\sigma_k$ is one of the components of the Pauli's vector: $\\vec{\\sigma}=(I, \\sigma_x, \\sigma_y, \\sigma_z)$."
   ]
  },
  {
   "cell_type": "code",
   "execution_count": 27,
   "id": "f81c5ddd-7a4f-4e38-9371-dbd9ac49cb05",
   "metadata": {},
   "outputs": [
    {
     "name": "stdout",
     "output_type": "stream",
     "text": [
      "q0: ─RY─RZ─o─RY─RZ─o─M─\n",
      "q1: ─RY─RZ─X─RY─RZ─X─M─\n"
     ]
    }
   ],
   "source": [
    "# a fancier quantum circuit\n",
    "nqubits = 2\n",
    "nlayers = 2\n",
    "\n",
    "c = Circuit(nqubits=nqubits)\n",
    "\n",
    "for l in range(nlayers):\n",
    "    for q in range(nqubits):\n",
    "        # NOTE: the angles are set to zero here!\n",
    "        c.add(gates.RY(q=q, theta=0))\n",
    "        c.add(gates.RZ(q=q, theta=0))\n",
    "    c.add(gates.CNOT(q0=0, q1=nqubits-1))\n",
    "c.add(gates.M(*range(nqubits)))\n",
    "\n",
    "print(c.draw())"
   ]
  },
  {
   "cell_type": "markdown",
   "id": "151ea846-d368-4cc4-a0fc-34e9ab399a17",
   "metadata": {},
   "source": [
    "All the rotational angles are now set to zero, and the final state is equal to the initial state (which is $|0\\rangle^{\\otimes N}$ by default). We can play with the angles to modify the final state."
   ]
  },
  {
   "cell_type": "code",
   "execution_count": 28,
   "id": "40157d01-c4c5-4f5b-a76f-18f579d5d740",
   "metadata": {},
   "outputs": [
    {
     "name": "stdout",
     "output_type": "stream",
     "text": [
      "(1+0j)|00>\n"
     ]
    },
    {
     "data": {
      "image/png": "[encoded data removed]",
      "text/plain": [
       "<Figure size 500x375 with 1 Axes>"
      ]
     },
     "metadata": {},
     "output_type": "display_data"
    }
   ],
   "source": [
    "# execute the circuit and collect frequencies\n",
    "outcome = c(nshots=1000)\n",
    "freq = outcome.frequencies()\n",
    "\n",
    "print(outcome)\n",
    "# visualize the |0> state\n",
    "visualize_states(freq)"
   ]
  },
  {
   "cell_type": "code",
   "execution_count": 29,
   "id": "44e87073-4f87-4ce8-887c-4df485020be8",
   "metadata": {},
   "outputs": [
    {
     "name": "stdout",
     "output_type": "stream",
     "text": [
      "[(0,), (0,), (0,), (0,), (0,), (0,), (0,), (0,)]\n"
     ]
    }
   ],
   "source": [
    "# visualize the current parameters (angles)\n",
    "initial_angles = c.get_parameters()\n",
    "\n",
    "# get nparams\n",
    "nparams = len(initial_angles)\n",
    "\n",
    "print(initial_angles)"
   ]
  },
  {
   "cell_type": "code",
   "execution_count": 30,
   "id": "b72ad265-3e2f-47b6-b93a-fa8051e1f03d",
   "metadata": {},
   "outputs": [],
   "source": [
    "# generate a new random list of parameters\n",
    "# after fixing numpy seed\n",
    "np.random.seed(42)\n",
    "angles = np.random.randn(nparams)\n",
    "\n",
    "# set the parameters into the circuit\n",
    "c.set_parameters(angles)"
   ]
  },
  {
   "cell_type": "code",
   "execution_count": 31,
   "id": "90c19e22-801a-49c4-8d8a-54eacfc183fa",
   "metadata": {},
   "outputs": [
    {
     "data": {
      "text/plain": [
       "[(0.4967141530112327,),\n",
       " (-0.13826430117118466,),\n",
       " (0.6476885381006925,),\n",
       " (1.5230298564080254,),\n",
       " (-0.23415337472333597,),\n",
       " (-0.23413695694918055,),\n",
       " (1.5792128155073915,),\n",
       " (0.7674347291529088,)]"
      ]
     },
     "execution_count": 31,
     "metadata": {},
     "output_type": "execute_result"
    }
   ],
   "source": [
    "# visualize the new parameters\n",
    "c.get_parameters()"
   ]
  },
  {
   "cell_type": "code",
   "execution_count": 32,
   "id": "64410812-0d27-4dca-890d-570aa307c788",
   "metadata": {},
   "outputs": [
    {
     "name": "stdout",
     "output_type": "stream",
     "text": [
      "(0.18227-0.62249j)|00> + (0.70785+0.08597j)|01> + (0.08842-0.03306j)|10> + (0.01107+0.24861j)|11>\n"
     ]
    },
    {
     "data": {
      "image/png": "[encoded data removed]",
      "text/plain": [
       "<Figure size 500x375 with 1 Axes>"
      ]
     },
     "metadata": {},
     "output_type": "display_data"
    }
   ],
   "source": [
    "# execute, collect frequencies and visualize the state\n",
    "outcome = c(nshots=1000)\n",
    "freq = outcome.frequencies()\n",
    "\n",
    "print(outcome)\n",
    "visualize_states(freq)"
   ]
  },
  {
   "cell_type": "markdown",
   "id": "22cbc1d0-9308-455c-b5a5-e3fb28093acb",
   "metadata": {},
   "source": [
    "### Hamiltonians\n",
    "\n",
    "As final introductory step, let's see how to define and use an hamiltonian in Qibo.\n",
    "We store a set of precomputed hamiltonians, which can be called and used to compute expectation values on the states we manipulate using circuits.\n",
    "\n",
    "As a simple example, let's consider the following"
   ]
  },
  {
   "cell_type": "code",
   "execution_count": 41,
   "id": "83520d4f-0f67-4168-84b2-83af5ac8d705",
   "metadata": {},
   "outputs": [],
   "source": [
    "# define an hamiltonian\n",
    "h = hamiltonians.TFIM(2)"
   ]
  },
  {
   "cell_type": "code",
   "execution_count": 45,
   "id": "5b536171-d8c2-4ba1-82bc-d807af51bac2",
   "metadata": {},
   "outputs": [
    {
     "name": "stdout",
     "output_type": "stream",
     "text": [
      "[[-2.-0.j -0.-0.j -0.-0.j -0.-0.j]\n",
      " [-0.-0.j  2.-0.j -0.-0.j -0.-0.j]\n",
      " [-0.-0.j -0.-0.j  2.-0.j -0.-0.j]\n",
      " [-0.-0.j -0.-0.j -0.-0.j -2.-0.j]]\n",
      "[-2. -2.  2.  2.] \n",
      "\n",
      "[[1.+0.j 0.+0.j 0.+0.j 0.+0.j]\n",
      " [0.+0.j 0.+0.j 0.+0.j 1.+0.j]\n",
      " [0.+0.j 0.+0.j 1.+0.j 0.+0.j]\n",
      " [0.+0.j 1.+0.j 0.+0.j 0.+0.j]] \n",
      "\n",
      "[1.+0.j 0.+0.j 0.+0.j 0.+0.j]\n"
     ]
    }
   ],
   "source": [
    "# visualize its matrix form\n",
    "matrix = h.matrix\n",
    "print(matrix)\n",
    "\n",
    "# some properties: eigenvalues, eigenvectors, ground state\n",
    "print(h.eigenvalues(), \"\\n\")\n",
    "print(h.eigenvectors(), \"\\n\")\n",
    "print(h.ground_state())"
   ]
  },
  {
   "cell_type": "markdown",
   "id": "17eac34f-0e23-490c-83df-ff278e47b226",
   "metadata": {},
   "source": [
    "We can calculate the expectation value of an hamiltonian over a target state.\n",
    "We are going to use the final state $|\\psi\\rangle$ we obtain by executing the above circuit composted of rotations."
   ]
  },
  {
   "cell_type": "code",
   "execution_count": 46,
   "id": "4cf68e33-c7f7-4459-8f05-8248a0597d67",
   "metadata": {},
   "outputs": [
    {
     "data": {
      "text/plain": [
       "0.06941692176323624"
      ]
     },
     "execution_count": 46,
     "metadata": {},
     "output_type": "execute_result"
    }
   ],
   "source": [
    "# compute the expectation < psi | H | psi >\n",
    "h.expectation(c().state())"
   ]
  },
  {
   "cell_type": "code",
   "execution_count": null,
   "id": "4164648c-cf33-419c-897b-11d8ee6d025f",
   "metadata": {},
   "outputs": [],
   "source": []
  }
 ],
 "metadata": {
  "kernelspec": {
   "display_name": "Python 3 (ipykernel)",
   "language": "python",
   "name": "python3"
  },
  "language_info": {
   "codemirror_mode": {
    "name": "ipython",
    "version": 3
   },
   "file_extension": ".py",
   "mimetype": "text/x-python",
   "name": "python",
   "nbconvert_exporter": "python",
   "pygments_lexer": "ipython3",
   "version": "3.10.0"
  }
 },
 "nbformat": 4,
 "nbformat_minor": 5
}
