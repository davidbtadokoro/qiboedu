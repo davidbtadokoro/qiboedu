{
 "cells": [
  {
   "cell_type": "markdown",
   "id": "5c0bef5e-1e33-45af-ae0a-a0b7202f9835",
   "metadata": {},
   "source": [
    "# Lecture 2: the phase kickback trick\n",
    "\n",
    "<center><img src=\"../../figures/qibo_mascotte/qibo_boomerang.png\" alt=\"drawing\" width=\"400\"/></center>\n",
    "<center><strong>Fig. 2:</strong> Qibo experimenting the kickback [DALL-E].</center>\n",
    "\n",
    "### Introduction\n",
    "\n",
    "This is going to be a very short lecture, but still relevant to get familiar with one of the most simple and common tricks used in quantum computing: the phase kickback.\n",
    "\n",
    "Before introducing and implementing an example of phase kickback, we should also introduce some terminology.\n",
    "We typically refer to the main qubits of a system as the **input register** of that system.\n",
    "\n",
    "In some situations, we could also need some more qubits, which we call **ancillas**. The **ancilla** is typically an extra qubit of your system, which can be useful for many reasons.\n",
    "\n",
    "<center><img src=\"../../figures/ancillas.png\" alt=\"drawing\" width=\"600\"/></center>\n",
    "\n",
    "In a nutshell, the phase kickback is a process in which we apply a controlled operation on a target qubit using another qubit as control, but amazingly we get a modification only in the control qubit!\n",
    "\n",
    "Let's start importing some useful objects."
   ]
  },
  {
   "cell_type": "markdown",
   "id": "8d9a389c-021f-4048-8abd-7604ab22c602",
   "metadata": {},
   "source": [
    "#### A necessary premise\n",
    "\n",
    "What we are going to see is one interesting way to apply an amplitude manipulation of the **input register** without actually apply any gate on it!\n",
    "\n",
    "It is important to mention that this same effect could be obtained by directly applying some gate on the **input register**, but this example is still interesting and, moreover, it will be useful to understand more complex algorithms such as Grover.\n",
    "\n",
    "### Phase kickback\n",
    "\n",
    "Let's consider two qubits: a first one is used as control, while a second is the target. An important requirement to exploit the phase kickback is that the second qubit's state is an eigenvector of the operator we aim to apply.\n",
    "\n",
    "#### Phase kickback implementation\n",
    "\n",
    "1. we initialize a two qubit circuit;\n",
    "2. we apply an Hadamard gate to the first qubit, which is the **input register**, which will be the control one, and a Pauli X to the second qubit. This step will prepare the system into the state $$ |\\psi_1\\rangle = \\frac{|01\\rangle + |11\\rangle}{\\sqrt{2}}; $$\n",
    "3. if the state vector of the target qubit $|q_{\\rm t}\\rangle$ is an eigenvector of the chosen gate $G$, it satisfies $$ G|q_{\\rm t}\\rangle = \\lambda_G\\,|q_{\\rm t}\\rangle.$$\n",
    "4. In our case we may consider the controlled version of a $G$ gate, which has $|1\\rangle$ as eigenvector:  $$ |\\psi_2\\rangle = CG |\\psi_1\\rangle = \\frac{|01\\rangle + G|11\\rangle}{\\sqrt{2}} = \n",
    "\\frac{|01\\rangle + \\lambda_{G}|11\\rangle}{\\sqrt{2}} = \\frac{|0\\rangle + \\lambda_{G}|1\\rangle}{\\sqrt{2}} \\times |1\\rangle.$$\n",
    "\n",
    "After step 4., the state of the control qubit has been changed, while the target one is untouched.\n",
    "\n",
    "#### Implementation"
   ]
  },
  {
   "cell_type": "code",
   "execution_count": 1,
   "id": "2ea89a36-d99f-4090-8013-c1fd72adacb7",
   "metadata": {},
   "outputs": [],
   "source": [
    "# import qibo modules, plot_probabilities_from_state function"
   ]
  },
  {
   "cell_type": "code",
   "execution_count": 2,
   "id": "a034f350-f000-4979-aa11-097b9ebbf284",
   "metadata": {},
   "outputs": [],
   "source": [
    "# set backend"
   ]
  },
  {
   "cell_type": "code",
   "execution_count": 3,
   "id": "f50d3938-bb26-4b4e-8c1b-98f45e02e14b",
   "metadata": {},
   "outputs": [],
   "source": [
    "# circuit preparation: hadamard and NOT gate on the ancilla\n",
    "# draw the circuit and check the state"
   ]
  },
  {
   "cell_type": "markdown",
   "id": "32d9e2da-fcff-43b6-968a-3b2dcae19775",
   "metadata": {},
   "source": [
    "We consider the $T$ gate, which has the state $|1\\rangle$ as eigenvector with eigenvalue $\\lambda_G \\neq 0$."
   ]
  },
  {
   "cell_type": "code",
   "execution_count": 4,
   "id": "0093594e-a7a4-4670-9048-c4eed79d0726",
   "metadata": {},
   "outputs": [],
   "source": [
    "# check T has |1> as eigenvec"
   ]
  },
  {
   "cell_type": "code",
   "execution_count": 6,
   "id": "71f9e5b7-e9ec-4478-b65e-c72a43a190ca",
   "metadata": {},
   "outputs": [],
   "source": [
    "def execute_circuit(kickback=False):\n",
    "    \"\"\"Execute circuit with or without phase kickback.\"\"\"\n",
    "    c = Circuit(2)\n",
    "    c.add(gates.X(1))\n",
    "    c.add(gates.H(0))\n",
    "    if kickback:\n",
    "        c.add(gates.T(1).controlled_by(0))\n",
    "    c.add(gates.H(0))\n",
    "    c.add(gates.M(*range(2)))\n",
    "\n",
    "    outcome = c(nshots=1000)\n",
    "    return outcome "
   ]
  },
  {
   "cell_type": "code",
   "execution_count": 5,
   "id": "a8c3a8fe-0fd1-46e7-a9c1-003ae8deec53",
   "metadata": {},
   "outputs": [],
   "source": [
    "# collect outcome with kickback false\n",
    "\n",
    "# print state\n",
    "\n",
    "# plot probabilities"
   ]
  },
  {
   "cell_type": "code",
   "execution_count": 6,
   "id": "33081b5a-24d6-4052-9d4d-d9a3e16b1783",
   "metadata": {},
   "outputs": [],
   "source": [
    "# collect outcome with kickback true\n",
    "\n",
    "# print state\n",
    "\n",
    "# plot probabilities"
   ]
  },
  {
   "cell_type": "markdown",
   "id": "246a7a9f-ded8-40bd-a8c9-8b67f96d0fdf",
   "metadata": {},
   "source": [
    "<div style=\"background-color: rgba(255, 105, 105, 0.3); border: 2.5px solid #000000; padding: 15px;\">\n",
    "    <strong>Exercise:</strong> can you find a quantum gate $CG$ which applies a larger kickback effect then the $CT$ ? In other words, can you replace $CT$ in the previous circuit with a gate which reduces the $|01\\rangle$ amplitude increasing the one of $|11\\rangle$ ?\n",
    "</div>"
   ]
  },
  {
   "cell_type": "markdown",
   "id": "a77e8003-5b58-4fb7-a889-7a2c4ed08564",
   "metadata": {},
   "source": [
    "#### What happens if we repeat the phase kickback many times?\n",
    "\n",
    "We now add the possibility to repeat the circuit architecture many times, in order to see what happens if we recursively manipulate the amplitude of the input register."
   ]
  },
  {
   "cell_type": "code",
   "execution_count": 9,
   "id": "5a7b9a68-b446-4564-bd5a-2299451b7e31",
   "metadata": {},
   "outputs": [],
   "source": [
    "# adding recursion using the `ntimes` argument\n",
    "def execute_circuit(kickback=False, ntimes=1):\n",
    "    \"\"\"Execute circuit with or without phase kickback.\"\"\"\n",
    "    c = Circuit(2)\n",
    "    c.add(gates.X(1))\n",
    "    for i in range(ntimes):\n",
    "        c.add(gates.H(0))\n",
    "        if kickback:\n",
    "            c.add(gates.T(1).controlled_by(0))\n",
    "        c.add(gates.H(0))\n",
    "    c.add(gates.M(*range(2)))\n",
    "\n",
    "    outcome = c(nshots=1000)\n",
    "    return outcome "
   ]
  },
  {
   "cell_type": "code",
   "execution_count": 7,
   "id": "e11b4e53-5f2a-4b34-819e-dd71dc273048",
   "metadata": {},
   "outputs": [],
   "source": [
    "# collect outcome with kickback true\n",
    "\n",
    "# print state\n",
    "\n",
    "# plot probabilities"
   ]
  },
  {
   "cell_type": "code",
   "execution_count": null,
   "id": "2d8f1ef1-b6b0-4996-a667-7a32a7d73d5e",
   "metadata": {},
   "outputs": [],
   "source": []
  }
 ],
 "metadata": {
  "kernelspec": {
   "display_name": "Python 3 (ipykernel)",
   "language": "python",
   "name": "python3"
  },
  "language_info": {
   "codemirror_mode": {
    "name": "ipython",
    "version": 3
   },
   "file_extension": ".py",
   "mimetype": "text/x-python",
   "name": "python",
   "nbconvert_exporter": "python",
   "pygments_lexer": "ipython3",
   "version": "3.10.0"
  }
 },
 "nbformat": 4,
 "nbformat_minor": 5
}
